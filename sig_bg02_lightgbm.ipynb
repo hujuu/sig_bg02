{
  "nbformat": 4,
  "nbformat_minor": 0,
  "metadata": {
    "kernelspec": {
      "display_name": "Python 3",
      "language": "python",
      "name": "python3"
    },
    "language_info": {
      "codemirror_mode": {
        "name": "ipython",
        "version": 3
      },
      "file_extension": ".py",
      "mimetype": "text/x-python",
      "name": "python",
      "nbconvert_exporter": "python",
      "pygments_lexer": "ipython3",
      "version": "3.8.3"
    },
    "colab": {
      "name": "sig_bg02_lightgbm.ipynb",
      "provenance": [],
      "collapsed_sections": [
        "8Iw8KQCckfST",
        "xXJhY2Q5QP9a"
      ],
      "toc_visible": true
    }
  },
  "cells": [
    {
      "cell_type": "code",
      "metadata": {
        "id": "22beCdSdUSsl",
        "colab_type": "code",
        "colab": {}
      },
      "source": [
        "# !pip install sklearn\n",
        "# !pip install featuretools\n",
        "# !pip install lightgbm"
      ],
      "execution_count": null,
      "outputs": []
    },
    {
      "cell_type": "code",
      "metadata": {
        "id": "ERrBTMqAUSsp",
        "colab_type": "code",
        "colab": {}
      },
      "source": [
        "import pandas as pd\n",
        "import numpy as np\n",
        "from sklearn.tree import DecisionTreeClassifier as DT\n",
        "from sklearn.linear_model import LinearRegression\n",
        "from sklearn.linear_model import LogisticRegression\n",
        "from sklearn.model_selection import LeaveOneOut, cross_val_score, train_test_split\n",
        "import matplotlib\n",
        "import matplotlib.pyplot as plt\n",
        "%matplotlib inline\n",
        "from sklearn.metrics import confusion_matrix # 混合行列\n",
        "from sklearn.decomposition import PCA #主成分分析\n",
        "from sklearn.linear_model import LogisticRegression # ロジスティック回帰\n",
        "from sklearn.neighbors import KNeighborsClassifier # K近傍法\n",
        "from sklearn.svm import SVC # サポートベクターマシン\n",
        "from sklearn.tree import DecisionTreeClassifier # 決定木\n",
        "from sklearn.ensemble import RandomForestClassifier # ランダムフォレスト\n",
        "from sklearn.ensemble import AdaBoostClassifier # AdaBoost\n",
        "from sklearn.naive_bayes import GaussianNB # ナイーブ・ベイズ\n",
        "import lightgbm as lgb\n",
        "from sklearn import metrics\n",
        "from sklearn.metrics import accuracy_score, recall_score, precision_score, f1_score"
      ],
      "execution_count": 1,
      "outputs": []
    },
    {
      "cell_type": "code",
      "metadata": {
        "id": "S66vQz1CUSsr",
        "colab_type": "code",
        "colab": {}
      },
      "source": [
        "train_df = pd.read_csv(\"train.csv\")\n",
        "test_X = pd.read_csv(\"test.csv\")"
      ],
      "execution_count": 7,
      "outputs": []
    },
    {
      "cell_type": "code",
      "metadata": {
        "id": "50Ph0FWcUSsu",
        "colab_type": "code",
        "colab": {
          "base_uri": "https://localhost:8080/",
          "height": 204
        },
        "outputId": "1866b9ca-617e-432e-e05e-c215455a1708"
      },
      "source": [
        "train_df.head()"
      ],
      "execution_count": 8,
      "outputs": [
        {
          "output_type": "execute_result",
          "data": {
            "text/html": [
              "<div>\n",
              "<style scoped>\n",
              "    .dataframe tbody tr th:only-of-type {\n",
              "        vertical-align: middle;\n",
              "    }\n",
              "\n",
              "    .dataframe tbody tr th {\n",
              "        vertical-align: top;\n",
              "    }\n",
              "\n",
              "    .dataframe thead th {\n",
              "        text-align: right;\n",
              "    }\n",
              "</style>\n",
              "<table border=\"1\" class=\"dataframe\">\n",
              "  <thead>\n",
              "    <tr style=\"text-align: right;\">\n",
              "      <th></th>\n",
              "      <th>Age</th>\n",
              "      <th>Gender</th>\n",
              "      <th>T_Bil</th>\n",
              "      <th>D_Bil</th>\n",
              "      <th>ALP</th>\n",
              "      <th>ALT_GPT</th>\n",
              "      <th>AST_GOT</th>\n",
              "      <th>TP</th>\n",
              "      <th>Alb</th>\n",
              "      <th>AG_ratio</th>\n",
              "      <th>disease</th>\n",
              "    </tr>\n",
              "  </thead>\n",
              "  <tbody>\n",
              "    <tr>\n",
              "      <th>0</th>\n",
              "      <td>59</td>\n",
              "      <td>Male</td>\n",
              "      <td>0.786886</td>\n",
              "      <td>0.150498</td>\n",
              "      <td>220.178691</td>\n",
              "      <td>13.467617</td>\n",
              "      <td>21.729246</td>\n",
              "      <td>6.815731</td>\n",
              "      <td>3.112276</td>\n",
              "      <td>1.006802</td>\n",
              "      <td>0</td>\n",
              "    </tr>\n",
              "    <tr>\n",
              "      <th>1</th>\n",
              "      <td>69</td>\n",
              "      <td>Male</td>\n",
              "      <td>1.003987</td>\n",
              "      <td>0.195625</td>\n",
              "      <td>221.218413</td>\n",
              "      <td>51.033462</td>\n",
              "      <td>64.752323</td>\n",
              "      <td>6.889608</td>\n",
              "      <td>3.051521</td>\n",
              "      <td>0.751346</td>\n",
              "      <td>1</td>\n",
              "    </tr>\n",
              "    <tr>\n",
              "      <th>2</th>\n",
              "      <td>65</td>\n",
              "      <td>Male</td>\n",
              "      <td>0.657140</td>\n",
              "      <td>0.081287</td>\n",
              "      <td>320.770533</td>\n",
              "      <td>12.625011</td>\n",
              "      <td>30.613180</td>\n",
              "      <td>5.947767</td>\n",
              "      <td>2.489167</td>\n",
              "      <td>0.774952</td>\n",
              "      <td>0</td>\n",
              "    </tr>\n",
              "    <tr>\n",
              "      <th>3</th>\n",
              "      <td>65</td>\n",
              "      <td>Male</td>\n",
              "      <td>0.906822</td>\n",
              "      <td>0.214173</td>\n",
              "      <td>369.278160</td>\n",
              "      <td>34.347597</td>\n",
              "      <td>54.510085</td>\n",
              "      <td>6.967183</td>\n",
              "      <td>3.613837</td>\n",
              "      <td>0.988155</td>\n",
              "      <td>1</td>\n",
              "    </tr>\n",
              "    <tr>\n",
              "      <th>4</th>\n",
              "      <td>22</td>\n",
              "      <td>Female</td>\n",
              "      <td>1.734959</td>\n",
              "      <td>0.197706</td>\n",
              "      <td>222.782025</td>\n",
              "      <td>20.572891</td>\n",
              "      <td>170.010177</td>\n",
              "      <td>5.837537</td>\n",
              "      <td>3.068697</td>\n",
              "      <td>1.026654</td>\n",
              "      <td>0</td>\n",
              "    </tr>\n",
              "  </tbody>\n",
              "</table>\n",
              "</div>"
            ],
            "text/plain": [
              "   Age  Gender     T_Bil     D_Bil  ...        TP       Alb  AG_ratio  disease\n",
              "0   59    Male  0.786886  0.150498  ...  6.815731  3.112276  1.006802        0\n",
              "1   69    Male  1.003987  0.195625  ...  6.889608  3.051521  0.751346        1\n",
              "2   65    Male  0.657140  0.081287  ...  5.947767  2.489167  0.774952        0\n",
              "3   65    Male  0.906822  0.214173  ...  6.967183  3.613837  0.988155        1\n",
              "4   22  Female  1.734959  0.197706  ...  5.837537  3.068697  1.026654        0\n",
              "\n",
              "[5 rows x 11 columns]"
            ]
          },
          "metadata": {
            "tags": []
          },
          "execution_count": 8
        }
      ]
    },
    {
      "cell_type": "code",
      "metadata": {
        "id": "AUqRsQVZZDo4",
        "colab_type": "code",
        "colab": {
          "base_uri": "https://localhost:8080/",
          "height": 68
        },
        "outputId": "1e9989d2-a83f-48d2-e032-8260f09209f2"
      },
      "source": [
        "train_df.disease.value_counts()"
      ],
      "execution_count": 9,
      "outputs": [
        {
          "output_type": "execute_result",
          "data": {
            "text/plain": [
              "0    472\n",
              "1    378\n",
              "Name: disease, dtype: int64"
            ]
          },
          "metadata": {
            "tags": []
          },
          "execution_count": 9
        }
      ]
    },
    {
      "cell_type": "markdown",
      "metadata": {
        "id": "Alt7i0IrUSsy",
        "colab_type": "text"
      },
      "source": [
        "# train_yに目的変数を代入"
      ]
    },
    {
      "cell_type": "code",
      "metadata": {
        "id": "x8pk0iZ3USsz",
        "colab_type": "code",
        "colab": {}
      },
      "source": [
        "train_y = train_df['disease']"
      ],
      "execution_count": 10,
      "outputs": []
    },
    {
      "cell_type": "code",
      "metadata": {
        "id": "iTsj5hw1USs1",
        "colab_type": "code",
        "colab": {
          "base_uri": "https://localhost:8080/",
          "height": 204
        },
        "outputId": "c83bbf19-bcb4-4804-d8f0-18d7d9aecefc"
      },
      "source": [
        "test_X.head()"
      ],
      "execution_count": 11,
      "outputs": [
        {
          "output_type": "execute_result",
          "data": {
            "text/html": [
              "<div>\n",
              "<style scoped>\n",
              "    .dataframe tbody tr th:only-of-type {\n",
              "        vertical-align: middle;\n",
              "    }\n",
              "\n",
              "    .dataframe tbody tr th {\n",
              "        vertical-align: top;\n",
              "    }\n",
              "\n",
              "    .dataframe thead th {\n",
              "        text-align: right;\n",
              "    }\n",
              "</style>\n",
              "<table border=\"1\" class=\"dataframe\">\n",
              "  <thead>\n",
              "    <tr style=\"text-align: right;\">\n",
              "      <th></th>\n",
              "      <th>Age</th>\n",
              "      <th>Gender</th>\n",
              "      <th>T_Bil</th>\n",
              "      <th>D_Bil</th>\n",
              "      <th>ALP</th>\n",
              "      <th>ALT_GPT</th>\n",
              "      <th>AST_GOT</th>\n",
              "      <th>TP</th>\n",
              "      <th>Alb</th>\n",
              "      <th>AG_ratio</th>\n",
              "    </tr>\n",
              "  </thead>\n",
              "  <tbody>\n",
              "    <tr>\n",
              "      <th>0</th>\n",
              "      <td>25</td>\n",
              "      <td>Male</td>\n",
              "      <td>0.801797</td>\n",
              "      <td>0.186800</td>\n",
              "      <td>214.448679</td>\n",
              "      <td>15.260516</td>\n",
              "      <td>19.496649</td>\n",
              "      <td>6.817903</td>\n",
              "      <td>3.600752</td>\n",
              "      <td>1.288006</td>\n",
              "    </tr>\n",
              "    <tr>\n",
              "      <th>1</th>\n",
              "      <td>26</td>\n",
              "      <td>Female</td>\n",
              "      <td>0.834857</td>\n",
              "      <td>0.116426</td>\n",
              "      <td>234.136816</td>\n",
              "      <td>10.509159</td>\n",
              "      <td>16.733312</td>\n",
              "      <td>6.795433</td>\n",
              "      <td>3.111043</td>\n",
              "      <td>1.030562</td>\n",
              "    </tr>\n",
              "    <tr>\n",
              "      <th>2</th>\n",
              "      <td>64</td>\n",
              "      <td>Male</td>\n",
              "      <td>0.791830</td>\n",
              "      <td>0.197940</td>\n",
              "      <td>216.039909</td>\n",
              "      <td>14.578304</td>\n",
              "      <td>20.695866</td>\n",
              "      <td>7.524030</td>\n",
              "      <td>3.627621</td>\n",
              "      <td>1.278579</td>\n",
              "    </tr>\n",
              "    <tr>\n",
              "      <th>3</th>\n",
              "      <td>65</td>\n",
              "      <td>Male</td>\n",
              "      <td>0.834003</td>\n",
              "      <td>0.175741</td>\n",
              "      <td>200.901130</td>\n",
              "      <td>12.820356</td>\n",
              "      <td>20.102517</td>\n",
              "      <td>6.829109</td>\n",
              "      <td>3.626758</td>\n",
              "      <td>1.275070</td>\n",
              "    </tr>\n",
              "    <tr>\n",
              "      <th>4</th>\n",
              "      <td>34</td>\n",
              "      <td>Female</td>\n",
              "      <td>0.690296</td>\n",
              "      <td>0.135503</td>\n",
              "      <td>208.705835</td>\n",
              "      <td>20.279018</td>\n",
              "      <td>25.096685</td>\n",
              "      <td>8.663530</td>\n",
              "      <td>4.170750</td>\n",
              "      <td>1.280078</td>\n",
              "    </tr>\n",
              "  </tbody>\n",
              "</table>\n",
              "</div>"
            ],
            "text/plain": [
              "   Age  Gender     T_Bil     D_Bil  ...    AST_GOT        TP       Alb  AG_ratio\n",
              "0   25    Male  0.801797  0.186800  ...  19.496649  6.817903  3.600752  1.288006\n",
              "1   26  Female  0.834857  0.116426  ...  16.733312  6.795433  3.111043  1.030562\n",
              "2   64    Male  0.791830  0.197940  ...  20.695866  7.524030  3.627621  1.278579\n",
              "3   65    Male  0.834003  0.175741  ...  20.102517  6.829109  3.626758  1.275070\n",
              "4   34  Female  0.690296  0.135503  ...  25.096685  8.663530  4.170750  1.280078\n",
              "\n",
              "[5 rows x 10 columns]"
            ]
          },
          "metadata": {
            "tags": []
          },
          "execution_count": 11
        }
      ]
    },
    {
      "cell_type": "code",
      "metadata": {
        "id": "hkWIyJZXUSs4",
        "colab_type": "code",
        "colab": {
          "base_uri": "https://localhost:8080/",
          "height": 306
        },
        "outputId": "42071253-753e-4d99-9338-63b46bb76d67"
      },
      "source": [
        "test_X.info()"
      ],
      "execution_count": 12,
      "outputs": [
        {
          "output_type": "stream",
          "text": [
            "<class 'pandas.core.frame.DataFrame'>\n",
            "RangeIndex: 350 entries, 0 to 349\n",
            "Data columns (total 10 columns):\n",
            " #   Column    Non-Null Count  Dtype  \n",
            "---  ------    --------------  -----  \n",
            " 0   Age       350 non-null    int64  \n",
            " 1   Gender    350 non-null    object \n",
            " 2   T_Bil     350 non-null    float64\n",
            " 3   D_Bil     350 non-null    float64\n",
            " 4   ALP       350 non-null    float64\n",
            " 5   ALT_GPT   350 non-null    float64\n",
            " 6   AST_GOT   350 non-null    float64\n",
            " 7   TP        350 non-null    float64\n",
            " 8   Alb       350 non-null    float64\n",
            " 9   AG_ratio  350 non-null    float64\n",
            "dtypes: float64(8), int64(1), object(1)\n",
            "memory usage: 27.5+ KB\n"
          ],
          "name": "stdout"
        }
      ]
    },
    {
      "cell_type": "code",
      "metadata": {
        "id": "LmLPd-JwUSs7",
        "colab_type": "code",
        "colab": {
          "base_uri": "https://localhost:8080/",
          "height": 34
        },
        "outputId": "a47ac8da-b4c4-45f1-c968-553e4dc0346b"
      },
      "source": [
        "print(test_X.Age.min(), test_X.Age.max())"
      ],
      "execution_count": 13,
      "outputs": [
        {
          "output_type": "stream",
          "text": [
            "6 75\n"
          ],
          "name": "stdout"
        }
      ]
    },
    {
      "cell_type": "code",
      "metadata": {
        "id": "mTwJlfQVUSs9",
        "colab_type": "code",
        "colab": {
          "base_uri": "https://localhost:8080/",
          "height": 34
        },
        "outputId": "daeb1c5f-03a9-4bcc-e183-45e778880ebf"
      },
      "source": [
        "print(train_df.Age.min(), train_df.Age.max())"
      ],
      "execution_count": 14,
      "outputs": [
        {
          "output_type": "stream",
          "text": [
            "10 78\n"
          ],
          "name": "stdout"
        }
      ]
    },
    {
      "cell_type": "code",
      "metadata": {
        "id": "zJu2Ge07USs_",
        "colab_type": "code",
        "colab": {}
      },
      "source": [
        "test_X.Age = pd.cut(test_X.Age, [0, 10, 20, 30,40,50,60,70,80])"
      ],
      "execution_count": 15,
      "outputs": []
    },
    {
      "cell_type": "code",
      "metadata": {
        "id": "ZLdtgQyBUStB",
        "colab_type": "code",
        "colab": {
          "base_uri": "https://localhost:8080/",
          "height": 419
        },
        "outputId": "ba23d9ac-34c7-432a-e6d2-d65f1eacf57f"
      },
      "source": [
        "test_X"
      ],
      "execution_count": 16,
      "outputs": [
        {
          "output_type": "execute_result",
          "data": {
            "text/html": [
              "<div>\n",
              "<style scoped>\n",
              "    .dataframe tbody tr th:only-of-type {\n",
              "        vertical-align: middle;\n",
              "    }\n",
              "\n",
              "    .dataframe tbody tr th {\n",
              "        vertical-align: top;\n",
              "    }\n",
              "\n",
              "    .dataframe thead th {\n",
              "        text-align: right;\n",
              "    }\n",
              "</style>\n",
              "<table border=\"1\" class=\"dataframe\">\n",
              "  <thead>\n",
              "    <tr style=\"text-align: right;\">\n",
              "      <th></th>\n",
              "      <th>Age</th>\n",
              "      <th>Gender</th>\n",
              "      <th>T_Bil</th>\n",
              "      <th>D_Bil</th>\n",
              "      <th>ALP</th>\n",
              "      <th>ALT_GPT</th>\n",
              "      <th>AST_GOT</th>\n",
              "      <th>TP</th>\n",
              "      <th>Alb</th>\n",
              "      <th>AG_ratio</th>\n",
              "    </tr>\n",
              "  </thead>\n",
              "  <tbody>\n",
              "    <tr>\n",
              "      <th>0</th>\n",
              "      <td>(20, 30]</td>\n",
              "      <td>Male</td>\n",
              "      <td>0.801797</td>\n",
              "      <td>0.186800</td>\n",
              "      <td>214.448679</td>\n",
              "      <td>15.260516</td>\n",
              "      <td>19.496649</td>\n",
              "      <td>6.817903</td>\n",
              "      <td>3.600752</td>\n",
              "      <td>1.288006</td>\n",
              "    </tr>\n",
              "    <tr>\n",
              "      <th>1</th>\n",
              "      <td>(20, 30]</td>\n",
              "      <td>Female</td>\n",
              "      <td>0.834857</td>\n",
              "      <td>0.116426</td>\n",
              "      <td>234.136816</td>\n",
              "      <td>10.509159</td>\n",
              "      <td>16.733312</td>\n",
              "      <td>6.795433</td>\n",
              "      <td>3.111043</td>\n",
              "      <td>1.030562</td>\n",
              "    </tr>\n",
              "    <tr>\n",
              "      <th>2</th>\n",
              "      <td>(60, 70]</td>\n",
              "      <td>Male</td>\n",
              "      <td>0.791830</td>\n",
              "      <td>0.197940</td>\n",
              "      <td>216.039909</td>\n",
              "      <td>14.578304</td>\n",
              "      <td>20.695866</td>\n",
              "      <td>7.524030</td>\n",
              "      <td>3.627621</td>\n",
              "      <td>1.278579</td>\n",
              "    </tr>\n",
              "    <tr>\n",
              "      <th>3</th>\n",
              "      <td>(60, 70]</td>\n",
              "      <td>Male</td>\n",
              "      <td>0.834003</td>\n",
              "      <td>0.175741</td>\n",
              "      <td>200.901130</td>\n",
              "      <td>12.820356</td>\n",
              "      <td>20.102517</td>\n",
              "      <td>6.829109</td>\n",
              "      <td>3.626758</td>\n",
              "      <td>1.275070</td>\n",
              "    </tr>\n",
              "    <tr>\n",
              "      <th>4</th>\n",
              "      <td>(30, 40]</td>\n",
              "      <td>Female</td>\n",
              "      <td>0.690296</td>\n",
              "      <td>0.135503</td>\n",
              "      <td>208.705835</td>\n",
              "      <td>20.279018</td>\n",
              "      <td>25.096685</td>\n",
              "      <td>8.663530</td>\n",
              "      <td>4.170750</td>\n",
              "      <td>1.280078</td>\n",
              "    </tr>\n",
              "    <tr>\n",
              "      <th>...</th>\n",
              "      <td>...</td>\n",
              "      <td>...</td>\n",
              "      <td>...</td>\n",
              "      <td>...</td>\n",
              "      <td>...</td>\n",
              "      <td>...</td>\n",
              "      <td>...</td>\n",
              "      <td>...</td>\n",
              "      <td>...</td>\n",
              "      <td>...</td>\n",
              "    </tr>\n",
              "    <tr>\n",
              "      <th>345</th>\n",
              "      <td>(60, 70]</td>\n",
              "      <td>Female</td>\n",
              "      <td>0.913867</td>\n",
              "      <td>0.120555</td>\n",
              "      <td>214.354728</td>\n",
              "      <td>16.964820</td>\n",
              "      <td>28.723677</td>\n",
              "      <td>6.960649</td>\n",
              "      <td>3.505619</td>\n",
              "      <td>1.224655</td>\n",
              "    </tr>\n",
              "    <tr>\n",
              "      <th>346</th>\n",
              "      <td>(50, 60]</td>\n",
              "      <td>Male</td>\n",
              "      <td>0.818573</td>\n",
              "      <td>0.206075</td>\n",
              "      <td>215.898729</td>\n",
              "      <td>14.733461</td>\n",
              "      <td>20.470517</td>\n",
              "      <td>7.531071</td>\n",
              "      <td>3.637508</td>\n",
              "      <td>1.282833</td>\n",
              "    </tr>\n",
              "    <tr>\n",
              "      <th>347</th>\n",
              "      <td>(20, 30]</td>\n",
              "      <td>Male</td>\n",
              "      <td>0.787054</td>\n",
              "      <td>0.186129</td>\n",
              "      <td>214.167523</td>\n",
              "      <td>14.936585</td>\n",
              "      <td>20.589993</td>\n",
              "      <td>7.505128</td>\n",
              "      <td>3.619033</td>\n",
              "      <td>1.287256</td>\n",
              "    </tr>\n",
              "    <tr>\n",
              "      <th>348</th>\n",
              "      <td>(60, 70]</td>\n",
              "      <td>Male</td>\n",
              "      <td>0.725194</td>\n",
              "      <td>0.191307</td>\n",
              "      <td>220.272862</td>\n",
              "      <td>17.532595</td>\n",
              "      <td>48.115014</td>\n",
              "      <td>7.559414</td>\n",
              "      <td>3.635871</td>\n",
              "      <td>1.263348</td>\n",
              "    </tr>\n",
              "    <tr>\n",
              "      <th>349</th>\n",
              "      <td>(50, 60]</td>\n",
              "      <td>Male</td>\n",
              "      <td>0.869632</td>\n",
              "      <td>0.236444</td>\n",
              "      <td>367.364415</td>\n",
              "      <td>23.534291</td>\n",
              "      <td>48.729618</td>\n",
              "      <td>7.537565</td>\n",
              "      <td>3.629533</td>\n",
              "      <td>1.285716</td>\n",
              "    </tr>\n",
              "  </tbody>\n",
              "</table>\n",
              "<p>350 rows × 10 columns</p>\n",
              "</div>"
            ],
            "text/plain": [
              "          Age  Gender     T_Bil  ...        TP       Alb  AG_ratio\n",
              "0    (20, 30]    Male  0.801797  ...  6.817903  3.600752  1.288006\n",
              "1    (20, 30]  Female  0.834857  ...  6.795433  3.111043  1.030562\n",
              "2    (60, 70]    Male  0.791830  ...  7.524030  3.627621  1.278579\n",
              "3    (60, 70]    Male  0.834003  ...  6.829109  3.626758  1.275070\n",
              "4    (30, 40]  Female  0.690296  ...  8.663530  4.170750  1.280078\n",
              "..        ...     ...       ...  ...       ...       ...       ...\n",
              "345  (60, 70]  Female  0.913867  ...  6.960649  3.505619  1.224655\n",
              "346  (50, 60]    Male  0.818573  ...  7.531071  3.637508  1.282833\n",
              "347  (20, 30]    Male  0.787054  ...  7.505128  3.619033  1.287256\n",
              "348  (60, 70]    Male  0.725194  ...  7.559414  3.635871  1.263348\n",
              "349  (50, 60]    Male  0.869632  ...  7.537565  3.629533  1.285716\n",
              "\n",
              "[350 rows x 10 columns]"
            ]
          },
          "metadata": {
            "tags": []
          },
          "execution_count": 16
        }
      ]
    },
    {
      "cell_type": "code",
      "metadata": {
        "id": "gIfXbzqIUStD",
        "colab_type": "code",
        "colab": {
          "base_uri": "https://localhost:8080/",
          "height": 419
        },
        "outputId": "e457d7db-771b-492d-fc26-286c32b18a9e"
      },
      "source": [
        "train_df.Age = pd.cut(train_df.Age, [0, 10, 20, 30,40,50,60,70,80])\n",
        "train_df"
      ],
      "execution_count": 17,
      "outputs": [
        {
          "output_type": "execute_result",
          "data": {
            "text/html": [
              "<div>\n",
              "<style scoped>\n",
              "    .dataframe tbody tr th:only-of-type {\n",
              "        vertical-align: middle;\n",
              "    }\n",
              "\n",
              "    .dataframe tbody tr th {\n",
              "        vertical-align: top;\n",
              "    }\n",
              "\n",
              "    .dataframe thead th {\n",
              "        text-align: right;\n",
              "    }\n",
              "</style>\n",
              "<table border=\"1\" class=\"dataframe\">\n",
              "  <thead>\n",
              "    <tr style=\"text-align: right;\">\n",
              "      <th></th>\n",
              "      <th>Age</th>\n",
              "      <th>Gender</th>\n",
              "      <th>T_Bil</th>\n",
              "      <th>D_Bil</th>\n",
              "      <th>ALP</th>\n",
              "      <th>ALT_GPT</th>\n",
              "      <th>AST_GOT</th>\n",
              "      <th>TP</th>\n",
              "      <th>Alb</th>\n",
              "      <th>AG_ratio</th>\n",
              "      <th>disease</th>\n",
              "    </tr>\n",
              "  </thead>\n",
              "  <tbody>\n",
              "    <tr>\n",
              "      <th>0</th>\n",
              "      <td>(50, 60]</td>\n",
              "      <td>Male</td>\n",
              "      <td>0.786886</td>\n",
              "      <td>0.150498</td>\n",
              "      <td>220.178691</td>\n",
              "      <td>13.467617</td>\n",
              "      <td>21.729246</td>\n",
              "      <td>6.815731</td>\n",
              "      <td>3.112276</td>\n",
              "      <td>1.006802</td>\n",
              "      <td>0</td>\n",
              "    </tr>\n",
              "    <tr>\n",
              "      <th>1</th>\n",
              "      <td>(60, 70]</td>\n",
              "      <td>Male</td>\n",
              "      <td>1.003987</td>\n",
              "      <td>0.195625</td>\n",
              "      <td>221.218413</td>\n",
              "      <td>51.033462</td>\n",
              "      <td>64.752323</td>\n",
              "      <td>6.889608</td>\n",
              "      <td>3.051521</td>\n",
              "      <td>0.751346</td>\n",
              "      <td>1</td>\n",
              "    </tr>\n",
              "    <tr>\n",
              "      <th>2</th>\n",
              "      <td>(60, 70]</td>\n",
              "      <td>Male</td>\n",
              "      <td>0.657140</td>\n",
              "      <td>0.081287</td>\n",
              "      <td>320.770533</td>\n",
              "      <td>12.625011</td>\n",
              "      <td>30.613180</td>\n",
              "      <td>5.947767</td>\n",
              "      <td>2.489167</td>\n",
              "      <td>0.774952</td>\n",
              "      <td>0</td>\n",
              "    </tr>\n",
              "    <tr>\n",
              "      <th>3</th>\n",
              "      <td>(60, 70]</td>\n",
              "      <td>Male</td>\n",
              "      <td>0.906822</td>\n",
              "      <td>0.214173</td>\n",
              "      <td>369.278160</td>\n",
              "      <td>34.347597</td>\n",
              "      <td>54.510085</td>\n",
              "      <td>6.967183</td>\n",
              "      <td>3.613837</td>\n",
              "      <td>0.988155</td>\n",
              "      <td>1</td>\n",
              "    </tr>\n",
              "    <tr>\n",
              "      <th>4</th>\n",
              "      <td>(20, 30]</td>\n",
              "      <td>Female</td>\n",
              "      <td>1.734959</td>\n",
              "      <td>0.197706</td>\n",
              "      <td>222.782025</td>\n",
              "      <td>20.572891</td>\n",
              "      <td>170.010177</td>\n",
              "      <td>5.837537</td>\n",
              "      <td>3.068697</td>\n",
              "      <td>1.026654</td>\n",
              "      <td>0</td>\n",
              "    </tr>\n",
              "    <tr>\n",
              "      <th>...</th>\n",
              "      <td>...</td>\n",
              "      <td>...</td>\n",
              "      <td>...</td>\n",
              "      <td>...</td>\n",
              "      <td>...</td>\n",
              "      <td>...</td>\n",
              "      <td>...</td>\n",
              "      <td>...</td>\n",
              "      <td>...</td>\n",
              "      <td>...</td>\n",
              "      <td>...</td>\n",
              "    </tr>\n",
              "    <tr>\n",
              "      <th>845</th>\n",
              "      <td>(20, 30]</td>\n",
              "      <td>Male</td>\n",
              "      <td>0.767450</td>\n",
              "      <td>0.186467</td>\n",
              "      <td>215.656126</td>\n",
              "      <td>13.963269</td>\n",
              "      <td>20.160997</td>\n",
              "      <td>6.824975</td>\n",
              "      <td>3.622443</td>\n",
              "      <td>1.297731</td>\n",
              "      <td>0</td>\n",
              "    </tr>\n",
              "    <tr>\n",
              "      <th>846</th>\n",
              "      <td>(50, 60]</td>\n",
              "      <td>Male</td>\n",
              "      <td>0.867946</td>\n",
              "      <td>0.156997</td>\n",
              "      <td>213.810275</td>\n",
              "      <td>14.564305</td>\n",
              "      <td>20.122535</td>\n",
              "      <td>7.509893</td>\n",
              "      <td>3.619143</td>\n",
              "      <td>1.296843</td>\n",
              "      <td>0</td>\n",
              "    </tr>\n",
              "    <tr>\n",
              "      <th>847</th>\n",
              "      <td>(40, 50]</td>\n",
              "      <td>Male</td>\n",
              "      <td>0.826785</td>\n",
              "      <td>0.138898</td>\n",
              "      <td>230.340081</td>\n",
              "      <td>40.495102</td>\n",
              "      <td>49.620857</td>\n",
              "      <td>7.529840</td>\n",
              "      <td>3.724408</td>\n",
              "      <td>0.987033</td>\n",
              "      <td>1</td>\n",
              "    </tr>\n",
              "    <tr>\n",
              "      <th>848</th>\n",
              "      <td>(30, 40]</td>\n",
              "      <td>Female</td>\n",
              "      <td>0.761972</td>\n",
              "      <td>0.137969</td>\n",
              "      <td>214.170393</td>\n",
              "      <td>18.048321</td>\n",
              "      <td>54.447774</td>\n",
              "      <td>5.944855</td>\n",
              "      <td>3.150978</td>\n",
              "      <td>1.220787</td>\n",
              "      <td>0</td>\n",
              "    </tr>\n",
              "    <tr>\n",
              "      <th>849</th>\n",
              "      <td>(60, 70]</td>\n",
              "      <td>Male</td>\n",
              "      <td>0.762713</td>\n",
              "      <td>0.218435</td>\n",
              "      <td>214.720510</td>\n",
              "      <td>15.885571</td>\n",
              "      <td>24.789606</td>\n",
              "      <td>6.768439</td>\n",
              "      <td>3.686097</td>\n",
              "      <td>1.309895</td>\n",
              "      <td>0</td>\n",
              "    </tr>\n",
              "  </tbody>\n",
              "</table>\n",
              "<p>850 rows × 11 columns</p>\n",
              "</div>"
            ],
            "text/plain": [
              "          Age  Gender     T_Bil  ...       Alb  AG_ratio  disease\n",
              "0    (50, 60]    Male  0.786886  ...  3.112276  1.006802        0\n",
              "1    (60, 70]    Male  1.003987  ...  3.051521  0.751346        1\n",
              "2    (60, 70]    Male  0.657140  ...  2.489167  0.774952        0\n",
              "3    (60, 70]    Male  0.906822  ...  3.613837  0.988155        1\n",
              "4    (20, 30]  Female  1.734959  ...  3.068697  1.026654        0\n",
              "..        ...     ...       ...  ...       ...       ...      ...\n",
              "845  (20, 30]    Male  0.767450  ...  3.622443  1.297731        0\n",
              "846  (50, 60]    Male  0.867946  ...  3.619143  1.296843        0\n",
              "847  (40, 50]    Male  0.826785  ...  3.724408  0.987033        1\n",
              "848  (30, 40]  Female  0.761972  ...  3.150978  1.220787        0\n",
              "849  (60, 70]    Male  0.762713  ...  3.686097  1.309895        0\n",
              "\n",
              "[850 rows x 11 columns]"
            ]
          },
          "metadata": {
            "tags": []
          },
          "execution_count": 17
        }
      ]
    },
    {
      "cell_type": "code",
      "metadata": {
        "id": "uj1zXGdTUStF",
        "colab_type": "code",
        "colab": {}
      },
      "source": [
        "# data_Xに説明変数を代入\n",
        "train_X = train_df.drop('disease', axis=1)"
      ],
      "execution_count": 18,
      "outputs": []
    },
    {
      "cell_type": "code",
      "metadata": {
        "id": "ts-9swglUStH",
        "colab_type": "code",
        "colab": {}
      },
      "source": [
        "train_X = pd.get_dummies(train_X)\n",
        "test_X = pd.get_dummies(test_X)"
      ],
      "execution_count": 19,
      "outputs": []
    },
    {
      "cell_type": "code",
      "metadata": {
        "id": "eU-MjPs6UStJ",
        "colab_type": "code",
        "colab": {
          "base_uri": "https://localhost:8080/",
          "height": 241
        },
        "outputId": "4063d6b7-df72-4a3b-c889-259fb0894a5e"
      },
      "source": [
        "train_X.head()"
      ],
      "execution_count": 20,
      "outputs": [
        {
          "output_type": "execute_result",
          "data": {
            "text/html": [
              "<div>\n",
              "<style scoped>\n",
              "    .dataframe tbody tr th:only-of-type {\n",
              "        vertical-align: middle;\n",
              "    }\n",
              "\n",
              "    .dataframe tbody tr th {\n",
              "        vertical-align: top;\n",
              "    }\n",
              "\n",
              "    .dataframe thead th {\n",
              "        text-align: right;\n",
              "    }\n",
              "</style>\n",
              "<table border=\"1\" class=\"dataframe\">\n",
              "  <thead>\n",
              "    <tr style=\"text-align: right;\">\n",
              "      <th></th>\n",
              "      <th>T_Bil</th>\n",
              "      <th>D_Bil</th>\n",
              "      <th>ALP</th>\n",
              "      <th>ALT_GPT</th>\n",
              "      <th>AST_GOT</th>\n",
              "      <th>TP</th>\n",
              "      <th>Alb</th>\n",
              "      <th>AG_ratio</th>\n",
              "      <th>Age_(0, 10]</th>\n",
              "      <th>Age_(10, 20]</th>\n",
              "      <th>Age_(20, 30]</th>\n",
              "      <th>Age_(30, 40]</th>\n",
              "      <th>Age_(40, 50]</th>\n",
              "      <th>Age_(50, 60]</th>\n",
              "      <th>Age_(60, 70]</th>\n",
              "      <th>Age_(70, 80]</th>\n",
              "      <th>Gender_Female</th>\n",
              "      <th>Gender_Male</th>\n",
              "    </tr>\n",
              "  </thead>\n",
              "  <tbody>\n",
              "    <tr>\n",
              "      <th>0</th>\n",
              "      <td>0.786886</td>\n",
              "      <td>0.150498</td>\n",
              "      <td>220.178691</td>\n",
              "      <td>13.467617</td>\n",
              "      <td>21.729246</td>\n",
              "      <td>6.815731</td>\n",
              "      <td>3.112276</td>\n",
              "      <td>1.006802</td>\n",
              "      <td>0</td>\n",
              "      <td>0</td>\n",
              "      <td>0</td>\n",
              "      <td>0</td>\n",
              "      <td>0</td>\n",
              "      <td>1</td>\n",
              "      <td>0</td>\n",
              "      <td>0</td>\n",
              "      <td>0</td>\n",
              "      <td>1</td>\n",
              "    </tr>\n",
              "    <tr>\n",
              "      <th>1</th>\n",
              "      <td>1.003987</td>\n",
              "      <td>0.195625</td>\n",
              "      <td>221.218413</td>\n",
              "      <td>51.033462</td>\n",
              "      <td>64.752323</td>\n",
              "      <td>6.889608</td>\n",
              "      <td>3.051521</td>\n",
              "      <td>0.751346</td>\n",
              "      <td>0</td>\n",
              "      <td>0</td>\n",
              "      <td>0</td>\n",
              "      <td>0</td>\n",
              "      <td>0</td>\n",
              "      <td>0</td>\n",
              "      <td>1</td>\n",
              "      <td>0</td>\n",
              "      <td>0</td>\n",
              "      <td>1</td>\n",
              "    </tr>\n",
              "    <tr>\n",
              "      <th>2</th>\n",
              "      <td>0.657140</td>\n",
              "      <td>0.081287</td>\n",
              "      <td>320.770533</td>\n",
              "      <td>12.625011</td>\n",
              "      <td>30.613180</td>\n",
              "      <td>5.947767</td>\n",
              "      <td>2.489167</td>\n",
              "      <td>0.774952</td>\n",
              "      <td>0</td>\n",
              "      <td>0</td>\n",
              "      <td>0</td>\n",
              "      <td>0</td>\n",
              "      <td>0</td>\n",
              "      <td>0</td>\n",
              "      <td>1</td>\n",
              "      <td>0</td>\n",
              "      <td>0</td>\n",
              "      <td>1</td>\n",
              "    </tr>\n",
              "    <tr>\n",
              "      <th>3</th>\n",
              "      <td>0.906822</td>\n",
              "      <td>0.214173</td>\n",
              "      <td>369.278160</td>\n",
              "      <td>34.347597</td>\n",
              "      <td>54.510085</td>\n",
              "      <td>6.967183</td>\n",
              "      <td>3.613837</td>\n",
              "      <td>0.988155</td>\n",
              "      <td>0</td>\n",
              "      <td>0</td>\n",
              "      <td>0</td>\n",
              "      <td>0</td>\n",
              "      <td>0</td>\n",
              "      <td>0</td>\n",
              "      <td>1</td>\n",
              "      <td>0</td>\n",
              "      <td>0</td>\n",
              "      <td>1</td>\n",
              "    </tr>\n",
              "    <tr>\n",
              "      <th>4</th>\n",
              "      <td>1.734959</td>\n",
              "      <td>0.197706</td>\n",
              "      <td>222.782025</td>\n",
              "      <td>20.572891</td>\n",
              "      <td>170.010177</td>\n",
              "      <td>5.837537</td>\n",
              "      <td>3.068697</td>\n",
              "      <td>1.026654</td>\n",
              "      <td>0</td>\n",
              "      <td>0</td>\n",
              "      <td>1</td>\n",
              "      <td>0</td>\n",
              "      <td>0</td>\n",
              "      <td>0</td>\n",
              "      <td>0</td>\n",
              "      <td>0</td>\n",
              "      <td>1</td>\n",
              "      <td>0</td>\n",
              "    </tr>\n",
              "  </tbody>\n",
              "</table>\n",
              "</div>"
            ],
            "text/plain": [
              "      T_Bil     D_Bil         ALP  ...  Age_(70, 80]  Gender_Female  Gender_Male\n",
              "0  0.786886  0.150498  220.178691  ...             0              0            1\n",
              "1  1.003987  0.195625  221.218413  ...             0              0            1\n",
              "2  0.657140  0.081287  320.770533  ...             0              0            1\n",
              "3  0.906822  0.214173  369.278160  ...             0              0            1\n",
              "4  1.734959  0.197706  222.782025  ...             0              1            0\n",
              "\n",
              "[5 rows x 18 columns]"
            ]
          },
          "metadata": {
            "tags": []
          },
          "execution_count": 20
        }
      ]
    },
    {
      "cell_type": "code",
      "metadata": {
        "id": "o0N0b5_xUStP",
        "colab_type": "code",
        "colab": {
          "base_uri": "https://localhost:8080/",
          "height": 241
        },
        "outputId": "a7a2e33b-8e83-4df5-c947-8c8f985b1891"
      },
      "source": [
        "test_X.head()"
      ],
      "execution_count": 21,
      "outputs": [
        {
          "output_type": "execute_result",
          "data": {
            "text/html": [
              "<div>\n",
              "<style scoped>\n",
              "    .dataframe tbody tr th:only-of-type {\n",
              "        vertical-align: middle;\n",
              "    }\n",
              "\n",
              "    .dataframe tbody tr th {\n",
              "        vertical-align: top;\n",
              "    }\n",
              "\n",
              "    .dataframe thead th {\n",
              "        text-align: right;\n",
              "    }\n",
              "</style>\n",
              "<table border=\"1\" class=\"dataframe\">\n",
              "  <thead>\n",
              "    <tr style=\"text-align: right;\">\n",
              "      <th></th>\n",
              "      <th>T_Bil</th>\n",
              "      <th>D_Bil</th>\n",
              "      <th>ALP</th>\n",
              "      <th>ALT_GPT</th>\n",
              "      <th>AST_GOT</th>\n",
              "      <th>TP</th>\n",
              "      <th>Alb</th>\n",
              "      <th>AG_ratio</th>\n",
              "      <th>Age_(0, 10]</th>\n",
              "      <th>Age_(10, 20]</th>\n",
              "      <th>Age_(20, 30]</th>\n",
              "      <th>Age_(30, 40]</th>\n",
              "      <th>Age_(40, 50]</th>\n",
              "      <th>Age_(50, 60]</th>\n",
              "      <th>Age_(60, 70]</th>\n",
              "      <th>Age_(70, 80]</th>\n",
              "      <th>Gender_Female</th>\n",
              "      <th>Gender_Male</th>\n",
              "    </tr>\n",
              "  </thead>\n",
              "  <tbody>\n",
              "    <tr>\n",
              "      <th>0</th>\n",
              "      <td>0.801797</td>\n",
              "      <td>0.186800</td>\n",
              "      <td>214.448679</td>\n",
              "      <td>15.260516</td>\n",
              "      <td>19.496649</td>\n",
              "      <td>6.817903</td>\n",
              "      <td>3.600752</td>\n",
              "      <td>1.288006</td>\n",
              "      <td>0</td>\n",
              "      <td>0</td>\n",
              "      <td>1</td>\n",
              "      <td>0</td>\n",
              "      <td>0</td>\n",
              "      <td>0</td>\n",
              "      <td>0</td>\n",
              "      <td>0</td>\n",
              "      <td>0</td>\n",
              "      <td>1</td>\n",
              "    </tr>\n",
              "    <tr>\n",
              "      <th>1</th>\n",
              "      <td>0.834857</td>\n",
              "      <td>0.116426</td>\n",
              "      <td>234.136816</td>\n",
              "      <td>10.509159</td>\n",
              "      <td>16.733312</td>\n",
              "      <td>6.795433</td>\n",
              "      <td>3.111043</td>\n",
              "      <td>1.030562</td>\n",
              "      <td>0</td>\n",
              "      <td>0</td>\n",
              "      <td>1</td>\n",
              "      <td>0</td>\n",
              "      <td>0</td>\n",
              "      <td>0</td>\n",
              "      <td>0</td>\n",
              "      <td>0</td>\n",
              "      <td>1</td>\n",
              "      <td>0</td>\n",
              "    </tr>\n",
              "    <tr>\n",
              "      <th>2</th>\n",
              "      <td>0.791830</td>\n",
              "      <td>0.197940</td>\n",
              "      <td>216.039909</td>\n",
              "      <td>14.578304</td>\n",
              "      <td>20.695866</td>\n",
              "      <td>7.524030</td>\n",
              "      <td>3.627621</td>\n",
              "      <td>1.278579</td>\n",
              "      <td>0</td>\n",
              "      <td>0</td>\n",
              "      <td>0</td>\n",
              "      <td>0</td>\n",
              "      <td>0</td>\n",
              "      <td>0</td>\n",
              "      <td>1</td>\n",
              "      <td>0</td>\n",
              "      <td>0</td>\n",
              "      <td>1</td>\n",
              "    </tr>\n",
              "    <tr>\n",
              "      <th>3</th>\n",
              "      <td>0.834003</td>\n",
              "      <td>0.175741</td>\n",
              "      <td>200.901130</td>\n",
              "      <td>12.820356</td>\n",
              "      <td>20.102517</td>\n",
              "      <td>6.829109</td>\n",
              "      <td>3.626758</td>\n",
              "      <td>1.275070</td>\n",
              "      <td>0</td>\n",
              "      <td>0</td>\n",
              "      <td>0</td>\n",
              "      <td>0</td>\n",
              "      <td>0</td>\n",
              "      <td>0</td>\n",
              "      <td>1</td>\n",
              "      <td>0</td>\n",
              "      <td>0</td>\n",
              "      <td>1</td>\n",
              "    </tr>\n",
              "    <tr>\n",
              "      <th>4</th>\n",
              "      <td>0.690296</td>\n",
              "      <td>0.135503</td>\n",
              "      <td>208.705835</td>\n",
              "      <td>20.279018</td>\n",
              "      <td>25.096685</td>\n",
              "      <td>8.663530</td>\n",
              "      <td>4.170750</td>\n",
              "      <td>1.280078</td>\n",
              "      <td>0</td>\n",
              "      <td>0</td>\n",
              "      <td>0</td>\n",
              "      <td>1</td>\n",
              "      <td>0</td>\n",
              "      <td>0</td>\n",
              "      <td>0</td>\n",
              "      <td>0</td>\n",
              "      <td>1</td>\n",
              "      <td>0</td>\n",
              "    </tr>\n",
              "  </tbody>\n",
              "</table>\n",
              "</div>"
            ],
            "text/plain": [
              "      T_Bil     D_Bil         ALP  ...  Age_(70, 80]  Gender_Female  Gender_Male\n",
              "0  0.801797  0.186800  214.448679  ...             0              0            1\n",
              "1  0.834857  0.116426  234.136816  ...             0              1            0\n",
              "2  0.791830  0.197940  216.039909  ...             0              0            1\n",
              "3  0.834003  0.175741  200.901130  ...             0              0            1\n",
              "4  0.690296  0.135503  208.705835  ...             0              1            0\n",
              "\n",
              "[5 rows x 18 columns]"
            ]
          },
          "metadata": {
            "tags": []
          },
          "execution_count": 21
        }
      ]
    },
    {
      "cell_type": "code",
      "metadata": {
        "id": "-cxwnBWyUStQ",
        "colab_type": "code",
        "colab": {}
      },
      "source": [
        "# 訓練セットとテストセットに分割\n",
        "X_train, X_test, y_train, y_test = train_test_split(train_X, train_y, random_state=0)"
      ],
      "execution_count": 22,
      "outputs": []
    },
    {
      "cell_type": "markdown",
      "metadata": {
        "id": "8Iw8KQCckfST",
        "colab_type": "text"
      },
      "source": [
        "# ロジスティック回帰"
      ]
    },
    {
      "cell_type": "code",
      "metadata": {
        "id": "SNltJOL9UStS",
        "colab_type": "code",
        "colab": {}
      },
      "source": [
        "p# lr = LinearRegression()\n",
        "lr = LogisticRegression(max_iter=2000) # ロジスティック回帰モデルのインスタンスを作成\n",
        "# X = boston_df.values         # 説明変数（Numpyの配列）\n",
        "# Y = boston_df['MEDV'].values         # 目的変数（Numpyの配列）"
      ],
      "execution_count": null,
      "outputs": []
    },
    {
      "cell_type": "code",
      "metadata": {
        "id": "wUQpRs_cUStU",
        "colab_type": "code",
        "colab": {
          "base_uri": "https://localhost:8080/",
          "height": 34
        },
        "outputId": "db2a43e4-843d-47f2-9558-ccdd1059246c"
      },
      "source": [
        "# テストセットでモデルを評価\n",
        "loo = LeaveOneOut()\n",
        "# score = cross_val_score(lr, train_X, train_y, cv=loo)\n",
        "score = cross_val_score(lr, train_X, train_y, cv=5)\n",
        "score.mean()"
      ],
      "execution_count": null,
      "outputs": [
        {
          "output_type": "execute_result",
          "data": {
            "text/plain": [
              "0.8329411764705881"
            ]
          },
          "metadata": {
            "tags": []
          },
          "execution_count": 19
        }
      ]
    },
    {
      "cell_type": "code",
      "metadata": {
        "id": "9ogqfXxQUStW",
        "colab_type": "code",
        "colab": {
          "base_uri": "https://localhost:8080/",
          "height": 102
        },
        "outputId": "4786cab5-78b3-4766-ea76-f7e7cf835e40"
      },
      "source": [
        "lr.fit(train_X, train_y)"
      ],
      "execution_count": null,
      "outputs": [
        {
          "output_type": "execute_result",
          "data": {
            "text/plain": [
              "LogisticRegression(C=1.0, class_weight=None, dual=False, fit_intercept=True,\n",
              "                   intercept_scaling=1, l1_ratio=None, max_iter=2000,\n",
              "                   multi_class='auto', n_jobs=None, penalty='l2',\n",
              "                   random_state=None, solver='lbfgs', tol=0.0001, verbose=0,\n",
              "                   warm_start=False)"
            ]
          },
          "metadata": {
            "tags": []
          },
          "execution_count": 20
        }
      ]
    },
    {
      "cell_type": "code",
      "metadata": {
        "id": "kPITeXpGUStZ",
        "colab_type": "code",
        "colab": {
          "base_uri": "https://localhost:8080/",
          "height": 187
        },
        "outputId": "153c4cc8-d04c-4b57-ff43-6847eb0b888b"
      },
      "source": [
        "# 評価用データの予測\n",
        "pred_y_lr = lr.predict(test_X)\n",
        "# 予測結果の表示\n",
        "print(pred_y_lr)"
      ],
      "execution_count": null,
      "outputs": [
        {
          "output_type": "stream",
          "text": [
            "[0 0 0 0 0 0 1 0 0 0 0 0 0 1 0 0 1 0 0 0 0 0 0 0 0 0 0 1 0 1 0 1 0 0 1 1 0\n",
            " 0 0 1 0 0 1 0 0 0 0 1 0 0 0 1 1 0 1 0 0 0 1 0 0 0 1 0 0 0 1 0 0 0 1 0 0 0\n",
            " 0 1 1 1 0 0 1 1 0 1 0 1 0 0 0 0 0 1 0 0 0 0 0 1 0 0 0 0 1 0 0 1 0 0 1 0 0\n",
            " 0 0 0 0 0 0 0 1 0 1 0 0 0 0 1 0 1 1 0 0 0 0 0 1 0 0 0 0 0 0 0 0 0 0 1 0 1\n",
            " 1 1 1 1 0 0 0 0 0 1 0 0 1 1 0 1 0 0 1 1 0 1 1 1 0 0 0 1 0 0 0 1 0 0 0 0 0\n",
            " 0 0 1 0 0 0 1 0 1 1 0 0 0 1 0 0 1 0 1 0 0 0 0 1 0 0 0 0 1 1 0 0 1 0 0 0 1\n",
            " 0 0 0 0 1 0 1 1 0 0 1 1 0 0 1 0 0 1 0 0 1 1 0 1 1 0 0 0 0 0 0 0 0 0 0 1 0\n",
            " 1 1 0 1 0 0 0 0 1 0 1 0 0 0 1 1 1 1 0 1 0 1 0 0 0 1 0 0 1 1 1 1 0 0 0 1 1\n",
            " 0 0 0 0 0 1 0 0 0 0 0 1 0 0 0 0 0 0 1 1 0 0 0 1 0 0 1 0 1 0 0 0 1 0 0 0 0\n",
            " 1 1 0 1 1 0 1 1 1 0 0 0 0 0 0 0 0]\n"
          ],
          "name": "stdout"
        }
      ]
    },
    {
      "cell_type": "code",
      "metadata": {
        "id": "Wv6aT9h8UStb",
        "colab_type": "code",
        "colab": {}
      },
      "source": [
        "names = [\"Logistic Regression\", \"Nearest Neighbors\", \n",
        "         \"Linear SVM\", \"Polynomial SVM\", \"RBF SVM\", \"Sigmoid SVM\", \n",
        "         \"Decision Tree\",\"Random Forest\", \"AdaBoost\", \"Naive Bayes\"]\n",
        "\n",
        "classifiers = [\n",
        "    LogisticRegression(max_iter=3000),\n",
        "    KNeighborsClassifier(),\n",
        "    SVC(kernel=\"linear\"),\n",
        "    SVC(kernel=\"poly\"),\n",
        "    SVC(kernel=\"rbf\"),\n",
        "    SVC(kernel=\"sigmoid\"),\n",
        "    DecisionTreeClassifier(),\n",
        "    RandomForestClassifier(),\n",
        "    AdaBoostClassifier(),\n",
        "    GaussianNB()]"
      ],
      "execution_count": null,
      "outputs": []
    },
    {
      "cell_type": "code",
      "metadata": {
        "id": "kH3eOLdcUStd",
        "colab_type": "code",
        "colab": {}
      },
      "source": [
        "result = []\n",
        "for name, clf in zip(names, classifiers): # 指定した複数の分類機を順番に呼び出す\n",
        "    clf.fit(train_X, train_y) # 学習\n",
        "    score1 = clf.score(train_X, train_y) # 正解率（train）の算出\n",
        "    score2 = clf.score(train_X, train_y) # 正解率（test）の算出\n",
        "    result.append([score1, score2]) # 結果の格納\n",
        "\n",
        "# test の正解率の大きい順に並べる\n",
        "df_result = pd.DataFrame(result, columns=['train', 'test'], index=names).sort_values('test', ascending=False)"
      ],
      "execution_count": null,
      "outputs": []
    },
    {
      "cell_type": "code",
      "metadata": {
        "id": "ddLDjxq_UStf",
        "colab_type": "code",
        "colab": {
          "base_uri": "https://localhost:8080/",
          "height": 359
        },
        "outputId": "da5740e4-b273-43b5-c178-73061f597d22"
      },
      "source": [
        "df_result"
      ],
      "execution_count": null,
      "outputs": [
        {
          "output_type": "execute_result",
          "data": {
            "text/html": [
              "<div>\n",
              "<style scoped>\n",
              "    .dataframe tbody tr th:only-of-type {\n",
              "        vertical-align: middle;\n",
              "    }\n",
              "\n",
              "    .dataframe tbody tr th {\n",
              "        vertical-align: top;\n",
              "    }\n",
              "\n",
              "    .dataframe thead th {\n",
              "        text-align: right;\n",
              "    }\n",
              "</style>\n",
              "<table border=\"1\" class=\"dataframe\">\n",
              "  <thead>\n",
              "    <tr style=\"text-align: right;\">\n",
              "      <th></th>\n",
              "      <th>train</th>\n",
              "      <th>test</th>\n",
              "    </tr>\n",
              "  </thead>\n",
              "  <tbody>\n",
              "    <tr>\n",
              "      <th>Decision Tree</th>\n",
              "      <td>1.000000</td>\n",
              "      <td>1.000000</td>\n",
              "    </tr>\n",
              "    <tr>\n",
              "      <th>Random Forest</th>\n",
              "      <td>1.000000</td>\n",
              "      <td>1.000000</td>\n",
              "    </tr>\n",
              "    <tr>\n",
              "      <th>AdaBoost</th>\n",
              "      <td>0.908235</td>\n",
              "      <td>0.908235</td>\n",
              "    </tr>\n",
              "    <tr>\n",
              "      <th>Nearest Neighbors</th>\n",
              "      <td>0.867059</td>\n",
              "      <td>0.867059</td>\n",
              "    </tr>\n",
              "    <tr>\n",
              "      <th>Linear SVM</th>\n",
              "      <td>0.850588</td>\n",
              "      <td>0.850588</td>\n",
              "    </tr>\n",
              "    <tr>\n",
              "      <th>Logistic Regression</th>\n",
              "      <td>0.849412</td>\n",
              "      <td>0.849412</td>\n",
              "    </tr>\n",
              "    <tr>\n",
              "      <th>Naive Bayes</th>\n",
              "      <td>0.801176</td>\n",
              "      <td>0.801176</td>\n",
              "    </tr>\n",
              "    <tr>\n",
              "      <th>RBF SVM</th>\n",
              "      <td>0.772941</td>\n",
              "      <td>0.772941</td>\n",
              "    </tr>\n",
              "    <tr>\n",
              "      <th>Sigmoid SVM</th>\n",
              "      <td>0.725882</td>\n",
              "      <td>0.725882</td>\n",
              "    </tr>\n",
              "    <tr>\n",
              "      <th>Polynomial SVM</th>\n",
              "      <td>0.687059</td>\n",
              "      <td>0.687059</td>\n",
              "    </tr>\n",
              "  </tbody>\n",
              "</table>\n",
              "</div>"
            ],
            "text/plain": [
              "                        train      test\n",
              "Decision Tree        1.000000  1.000000\n",
              "Random Forest        1.000000  1.000000\n",
              "AdaBoost             0.908235  0.908235\n",
              "Nearest Neighbors    0.867059  0.867059\n",
              "Linear SVM           0.850588  0.850588\n",
              "Logistic Regression  0.849412  0.849412\n",
              "Naive Bayes          0.801176  0.801176\n",
              "RBF SVM              0.772941  0.772941\n",
              "Sigmoid SVM          0.725882  0.725882\n",
              "Polynomial SVM       0.687059  0.687059"
            ]
          },
          "metadata": {
            "tags": []
          },
          "execution_count": 24
        }
      ]
    },
    {
      "cell_type": "code",
      "metadata": {
        "id": "d0pjJYiWUSth",
        "colab_type": "code",
        "colab": {
          "base_uri": "https://localhost:8080/",
          "height": 368
        },
        "outputId": "64352672-7bd3-4a24-e49e-23ba1131959a"
      },
      "source": [
        "# 棒グラフの描画\n",
        "df_result.plot(kind='bar', alpha=0.5, grid=True)"
      ],
      "execution_count": null,
      "outputs": [
        {
          "output_type": "execute_result",
          "data": {
            "text/plain": [
              "<matplotlib.axes._subplots.AxesSubplot at 0x7fbd87a73240>"
            ]
          },
          "metadata": {
            "tags": []
          },
          "execution_count": 25
        },
        {
          "output_type": "display_data",
          "data": {
            "image/png": "[encoded data removed]",
            "text/plain": [
              "<Figure size 432x288 with 1 Axes>"
            ]
          },
          "metadata": {
            "tags": [],
            "needs_background": "light"
          }
        }
      ]
    },
    {
      "cell_type": "code",
      "metadata": {
        "id": "mSyQ866JUStj",
        "colab_type": "code",
        "colab": {}
      },
      "source": [
        "result = []\n",
        "for trial in range(20): # 20 回繰り返す\n",
        "    X_train, X_test, y_train, y_test = train_test_split(train_X, train_y, test_size=.4) # 訓練データ・テストデータの生成\n",
        "    for name, clf in zip(names, classifiers): # 指定した複数の分類機を順番に呼び出す\n",
        "        clf.fit(X_train, y_train) # 学習\n",
        "        score1 = clf.score(X_train, y_train) # 正解率（train）の算出\n",
        "        score2 = clf.score(X_test, y_test) # 正解率（test）の算出\n",
        "        result.append([name, score1, score2]) # 結果の格納\n",
        "\n",
        "df_result = pd.DataFrame(result, columns=['classifier', 'train', 'test'])"
      ],
      "execution_count": null,
      "outputs": []
    },
    {
      "cell_type": "code",
      "metadata": {
        "id": "hohyVLJNUStk",
        "colab_type": "code",
        "colab": {
          "base_uri": "https://localhost:8080/",
          "height": 419
        },
        "outputId": "90d04b3c-c107-4fda-a8d1-7d8e0cea0947"
      },
      "source": [
        "df_result"
      ],
      "execution_count": null,
      "outputs": [
        {
          "output_type": "execute_result",
          "data": {
            "text/html": [
              "<div>\n",
              "<style scoped>\n",
              "    .dataframe tbody tr th:only-of-type {\n",
              "        vertical-align: middle;\n",
              "    }\n",
              "\n",
              "    .dataframe tbody tr th {\n",
              "        vertical-align: top;\n",
              "    }\n",
              "\n",
              "    .dataframe thead th {\n",
              "        text-align: right;\n",
              "    }\n",
              "</style>\n",
              "<table border=\"1\" class=\"dataframe\">\n",
              "  <thead>\n",
              "    <tr style=\"text-align: right;\">\n",
              "      <th></th>\n",
              "      <th>classifier</th>\n",
              "      <th>train</th>\n",
              "      <th>test</th>\n",
              "    </tr>\n",
              "  </thead>\n",
              "  <tbody>\n",
              "    <tr>\n",
              "      <th>0</th>\n",
              "      <td>Logistic Regression</td>\n",
              "      <td>0.825490</td>\n",
              "      <td>0.820588</td>\n",
              "    </tr>\n",
              "    <tr>\n",
              "      <th>1</th>\n",
              "      <td>Nearest Neighbors</td>\n",
              "      <td>0.870588</td>\n",
              "      <td>0.802941</td>\n",
              "    </tr>\n",
              "    <tr>\n",
              "      <th>2</th>\n",
              "      <td>Linear SVM</td>\n",
              "      <td>0.843137</td>\n",
              "      <td>0.826471</td>\n",
              "    </tr>\n",
              "    <tr>\n",
              "      <th>3</th>\n",
              "      <td>Polynomial SVM</td>\n",
              "      <td>0.656863</td>\n",
              "      <td>0.620588</td>\n",
              "    </tr>\n",
              "    <tr>\n",
              "      <th>4</th>\n",
              "      <td>RBF SVM</td>\n",
              "      <td>0.715686</td>\n",
              "      <td>0.702941</td>\n",
              "    </tr>\n",
              "    <tr>\n",
              "      <th>...</th>\n",
              "      <td>...</td>\n",
              "      <td>...</td>\n",
              "      <td>...</td>\n",
              "    </tr>\n",
              "    <tr>\n",
              "      <th>195</th>\n",
              "      <td>Sigmoid SVM</td>\n",
              "      <td>0.649020</td>\n",
              "      <td>0.652941</td>\n",
              "    </tr>\n",
              "    <tr>\n",
              "      <th>196</th>\n",
              "      <td>Decision Tree</td>\n",
              "      <td>1.000000</td>\n",
              "      <td>0.814706</td>\n",
              "    </tr>\n",
              "    <tr>\n",
              "      <th>197</th>\n",
              "      <td>Random Forest</td>\n",
              "      <td>1.000000</td>\n",
              "      <td>0.888235</td>\n",
              "    </tr>\n",
              "    <tr>\n",
              "      <th>198</th>\n",
              "      <td>AdaBoost</td>\n",
              "      <td>0.900000</td>\n",
              "      <td>0.832353</td>\n",
              "    </tr>\n",
              "    <tr>\n",
              "      <th>199</th>\n",
              "      <td>Naive Bayes</td>\n",
              "      <td>0.798039</td>\n",
              "      <td>0.802941</td>\n",
              "    </tr>\n",
              "  </tbody>\n",
              "</table>\n",
              "<p>200 rows × 3 columns</p>\n",
              "</div>"
            ],
            "text/plain": [
              "              classifier     train      test\n",
              "0    Logistic Regression  0.825490  0.820588\n",
              "1      Nearest Neighbors  0.870588  0.802941\n",
              "2             Linear SVM  0.843137  0.826471\n",
              "3         Polynomial SVM  0.656863  0.620588\n",
              "4                RBF SVM  0.715686  0.702941\n",
              "..                   ...       ...       ...\n",
              "195          Sigmoid SVM  0.649020  0.652941\n",
              "196        Decision Tree  1.000000  0.814706\n",
              "197        Random Forest  1.000000  0.888235\n",
              "198             AdaBoost  0.900000  0.832353\n",
              "199          Naive Bayes  0.798039  0.802941\n",
              "\n",
              "[200 rows x 3 columns]"
            ]
          },
          "metadata": {
            "tags": []
          },
          "execution_count": 27
        }
      ]
    },
    {
      "cell_type": "code",
      "metadata": {
        "id": "h2rbDoKkUStm",
        "colab_type": "code",
        "colab": {}
      },
      "source": [
        "# 分類器 (classifier) 毎にグループ化して正解率の平均を計算し、test の正解率の平均の大きい順に並べる\n",
        "df_result_mean = df_result.groupby('classifier').mean().sort_values('test', ascending=False)"
      ],
      "execution_count": null,
      "outputs": []
    },
    {
      "cell_type": "code",
      "metadata": {
        "id": "p2qSPO3ZUSto",
        "colab_type": "code",
        "colab": {
          "base_uri": "https://localhost:8080/",
          "height": 390
        },
        "outputId": "54d4f1dc-ee07-40ae-d2ea-dcf91e5d94a9"
      },
      "source": [
        "df_result_mean"
      ],
      "execution_count": null,
      "outputs": [
        {
          "output_type": "execute_result",
          "data": {
            "text/html": [
              "<div>\n",
              "<style scoped>\n",
              "    .dataframe tbody tr th:only-of-type {\n",
              "        vertical-align: middle;\n",
              "    }\n",
              "\n",
              "    .dataframe tbody tr th {\n",
              "        vertical-align: top;\n",
              "    }\n",
              "\n",
              "    .dataframe thead th {\n",
              "        text-align: right;\n",
              "    }\n",
              "</style>\n",
              "<table border=\"1\" class=\"dataframe\">\n",
              "  <thead>\n",
              "    <tr style=\"text-align: right;\">\n",
              "      <th></th>\n",
              "      <th>train</th>\n",
              "      <th>test</th>\n",
              "    </tr>\n",
              "    <tr>\n",
              "      <th>classifier</th>\n",
              "      <th></th>\n",
              "      <th></th>\n",
              "    </tr>\n",
              "  </thead>\n",
              "  <tbody>\n",
              "    <tr>\n",
              "      <th>Random Forest</th>\n",
              "      <td>1.000000</td>\n",
              "      <td>0.860735</td>\n",
              "    </tr>\n",
              "    <tr>\n",
              "      <th>Linear SVM</th>\n",
              "      <td>0.851569</td>\n",
              "      <td>0.838824</td>\n",
              "    </tr>\n",
              "    <tr>\n",
              "      <th>AdaBoost</th>\n",
              "      <td>0.934314</td>\n",
              "      <td>0.837941</td>\n",
              "    </tr>\n",
              "    <tr>\n",
              "      <th>Logistic Regression</th>\n",
              "      <td>0.846863</td>\n",
              "      <td>0.829412</td>\n",
              "    </tr>\n",
              "    <tr>\n",
              "      <th>Nearest Neighbors</th>\n",
              "      <td>0.858235</td>\n",
              "      <td>0.809265</td>\n",
              "    </tr>\n",
              "    <tr>\n",
              "      <th>Decision Tree</th>\n",
              "      <td>1.000000</td>\n",
              "      <td>0.803676</td>\n",
              "    </tr>\n",
              "    <tr>\n",
              "      <th>Naive Bayes</th>\n",
              "      <td>0.796078</td>\n",
              "      <td>0.790000</td>\n",
              "    </tr>\n",
              "    <tr>\n",
              "      <th>RBF SVM</th>\n",
              "      <td>0.733725</td>\n",
              "      <td>0.719853</td>\n",
              "    </tr>\n",
              "    <tr>\n",
              "      <th>Polynomial SVM</th>\n",
              "      <td>0.675392</td>\n",
              "      <td>0.660441</td>\n",
              "    </tr>\n",
              "    <tr>\n",
              "      <th>Sigmoid SVM</th>\n",
              "      <td>0.655490</td>\n",
              "      <td>0.649853</td>\n",
              "    </tr>\n",
              "  </tbody>\n",
              "</table>\n",
              "</div>"
            ],
            "text/plain": [
              "                        train      test\n",
              "classifier                             \n",
              "Random Forest        1.000000  0.860735\n",
              "Linear SVM           0.851569  0.838824\n",
              "AdaBoost             0.934314  0.837941\n",
              "Logistic Regression  0.846863  0.829412\n",
              "Nearest Neighbors    0.858235  0.809265\n",
              "Decision Tree        1.000000  0.803676\n",
              "Naive Bayes          0.796078  0.790000\n",
              "RBF SVM              0.733725  0.719853\n",
              "Polynomial SVM       0.675392  0.660441\n",
              "Sigmoid SVM          0.655490  0.649853"
            ]
          },
          "metadata": {
            "tags": []
          },
          "execution_count": 29
        }
      ]
    },
    {
      "cell_type": "code",
      "metadata": {
        "id": "pqfx17Z4UStr",
        "colab_type": "code",
        "colab": {}
      },
      "source": [
        "# エラーバーの表示に用いる目的で、標準偏差を計算する\n",
        "errors = df_result.groupby('classifier').std()"
      ],
      "execution_count": null,
      "outputs": []
    },
    {
      "cell_type": "code",
      "metadata": {
        "id": "ZKmuO5mdUSts",
        "colab_type": "code",
        "colab": {
          "base_uri": "https://localhost:8080/",
          "height": 390
        },
        "outputId": "250de9d8-d3cd-4c14-a077-e0ffb49994ef"
      },
      "source": [
        "errors # 結果の確認"
      ],
      "execution_count": null,
      "outputs": [
        {
          "output_type": "execute_result",
          "data": {
            "text/html": [
              "<div>\n",
              "<style scoped>\n",
              "    .dataframe tbody tr th:only-of-type {\n",
              "        vertical-align: middle;\n",
              "    }\n",
              "\n",
              "    .dataframe tbody tr th {\n",
              "        vertical-align: top;\n",
              "    }\n",
              "\n",
              "    .dataframe thead th {\n",
              "        text-align: right;\n",
              "    }\n",
              "</style>\n",
              "<table border=\"1\" class=\"dataframe\">\n",
              "  <thead>\n",
              "    <tr style=\"text-align: right;\">\n",
              "      <th></th>\n",
              "      <th>train</th>\n",
              "      <th>test</th>\n",
              "    </tr>\n",
              "    <tr>\n",
              "      <th>classifier</th>\n",
              "      <th></th>\n",
              "      <th></th>\n",
              "    </tr>\n",
              "  </thead>\n",
              "  <tbody>\n",
              "    <tr>\n",
              "      <th>AdaBoost</th>\n",
              "      <td>0.013532</td>\n",
              "      <td>0.017147</td>\n",
              "    </tr>\n",
              "    <tr>\n",
              "      <th>Decision Tree</th>\n",
              "      <td>0.000000</td>\n",
              "      <td>0.021292</td>\n",
              "    </tr>\n",
              "    <tr>\n",
              "      <th>Linear SVM</th>\n",
              "      <td>0.011203</td>\n",
              "      <td>0.011554</td>\n",
              "    </tr>\n",
              "    <tr>\n",
              "      <th>Logistic Regression</th>\n",
              "      <td>0.013267</td>\n",
              "      <td>0.015622</td>\n",
              "    </tr>\n",
              "    <tr>\n",
              "      <th>Naive Bayes</th>\n",
              "      <td>0.013629</td>\n",
              "      <td>0.015922</td>\n",
              "    </tr>\n",
              "    <tr>\n",
              "      <th>Nearest Neighbors</th>\n",
              "      <td>0.010590</td>\n",
              "      <td>0.009837</td>\n",
              "    </tr>\n",
              "    <tr>\n",
              "      <th>Polynomial SVM</th>\n",
              "      <td>0.018683</td>\n",
              "      <td>0.026812</td>\n",
              "    </tr>\n",
              "    <tr>\n",
              "      <th>RBF SVM</th>\n",
              "      <td>0.020757</td>\n",
              "      <td>0.027802</td>\n",
              "    </tr>\n",
              "    <tr>\n",
              "      <th>Random Forest</th>\n",
              "      <td>0.000000</td>\n",
              "      <td>0.014975</td>\n",
              "    </tr>\n",
              "    <tr>\n",
              "      <th>Sigmoid SVM</th>\n",
              "      <td>0.016170</td>\n",
              "      <td>0.023827</td>\n",
              "    </tr>\n",
              "  </tbody>\n",
              "</table>\n",
              "</div>"
            ],
            "text/plain": [
              "                        train      test\n",
              "classifier                             \n",
              "AdaBoost             0.013532  0.017147\n",
              "Decision Tree        0.000000  0.021292\n",
              "Linear SVM           0.011203  0.011554\n",
              "Logistic Regression  0.013267  0.015622\n",
              "Naive Bayes          0.013629  0.015922\n",
              "Nearest Neighbors    0.010590  0.009837\n",
              "Polynomial SVM       0.018683  0.026812\n",
              "RBF SVM              0.020757  0.027802\n",
              "Random Forest        0.000000  0.014975\n",
              "Sigmoid SVM          0.016170  0.023827"
            ]
          },
          "metadata": {
            "tags": []
          },
          "execution_count": 31
        }
      ]
    },
    {
      "cell_type": "code",
      "metadata": {
        "id": "gzO-YhtrUStu",
        "colab_type": "code",
        "colab": {
          "base_uri": "https://localhost:8080/",
          "height": 382
        },
        "outputId": "77e71911-f69a-4376-c821-dcb94abd5f5e"
      },
      "source": [
        "# 平均値と標準偏差を用いて棒グラフを描画\n",
        "df_result_mean.plot(kind='bar', alpha=0.5, grid=True, yerr=errors)"
      ],
      "execution_count": null,
      "outputs": [
        {
          "output_type": "execute_result",
          "data": {
            "text/plain": [
              "<matplotlib.axes._subplots.AxesSubplot at 0x7fbd874c0ba8>"
            ]
          },
          "metadata": {
            "tags": []
          },
          "execution_count": 32
        },
        {
          "output_type": "display_data",
          "data": {
            "image/png": "[encoded data removed]",
            "text/plain": [
              "<Figure size 432x288 with 1 Axes>"
            ]
          },
          "metadata": {
            "tags": [],
            "needs_background": "light"
          }
        }
      ]
    },
    {
      "cell_type": "code",
      "metadata": {
        "id": "k2lS7r2uUStw",
        "colab_type": "code",
        "colab": {
          "base_uri": "https://localhost:8080/",
          "height": 34
        },
        "outputId": "98dd38b0-0200-487f-f687-a876048e9fe4"
      },
      "source": [
        "DTC = DecisionTreeClassifier()\n",
        "score = cross_val_score(DTC, train_X, train_y, cv=5)\n",
        "score.mean()"
      ],
      "execution_count": null,
      "outputs": [
        {
          "output_type": "execute_result",
          "data": {
            "text/plain": [
              "0.8105882352941176"
            ]
          },
          "metadata": {
            "tags": []
          },
          "execution_count": 33
        }
      ]
    },
    {
      "cell_type": "code",
      "metadata": {
        "id": "OM77Za-CUSty",
        "colab_type": "code",
        "colab": {
          "base_uri": "https://localhost:8080/",
          "height": 34
        },
        "outputId": "93c912ba-989e-484f-c6d3-a58b44caf309"
      },
      "source": [
        "RFC = RandomForestClassifier()\n",
        "score = cross_val_score(RFC, train_X, train_y, cv=5)\n",
        "score.mean()"
      ],
      "execution_count": null,
      "outputs": [
        {
          "output_type": "execute_result",
          "data": {
            "text/plain": [
              "0.8647058823529411"
            ]
          },
          "metadata": {
            "tags": []
          },
          "execution_count": 34
        }
      ]
    },
    {
      "cell_type": "code",
      "metadata": {
        "id": "wOLDeLbOUStz",
        "colab_type": "code",
        "colab": {
          "base_uri": "https://localhost:8080/",
          "height": 187
        },
        "outputId": "cbb62af0-7eed-4b00-eed8-cebd2c82342d"
      },
      "source": [
        "RFC.fit(train_X, train_y)\n",
        "# 評価用データの予測\n",
        "pred_y = RFC.predict(test_X)\n",
        "\n",
        "# 予測結果の表示\n",
        "print(pred_y)"
      ],
      "execution_count": null,
      "outputs": [
        {
          "output_type": "stream",
          "text": [
            "[0 0 0 0 0 0 1 1 1 0 0 0 0 1 0 1 1 0 0 0 1 0 0 1 0 0 0 1 0 1 0 1 0 1 1 1 0\n",
            " 0 0 1 1 0 1 0 0 0 0 1 0 1 0 0 1 0 0 0 1 0 1 0 0 0 1 0 0 0 1 1 0 0 1 0 0 0\n",
            " 0 1 1 1 0 0 0 1 0 1 0 1 0 0 0 1 0 1 0 0 0 1 0 0 0 0 0 0 1 1 0 1 0 0 1 0 0\n",
            " 0 0 0 0 0 0 1 1 1 1 0 0 0 0 1 0 1 1 0 1 1 0 0 0 0 0 0 0 0 0 0 0 0 0 1 0 1\n",
            " 1 1 1 1 0 0 0 0 0 1 0 0 1 1 0 1 0 0 1 1 1 1 1 1 0 0 1 1 0 1 0 1 0 0 0 0 0\n",
            " 0 0 1 0 0 1 0 0 1 1 0 1 0 1 0 0 1 0 1 0 0 0 0 0 0 0 0 0 1 1 0 0 1 0 1 0 1\n",
            " 0 0 0 1 1 0 1 1 1 0 1 1 0 0 1 0 0 1 0 0 1 1 0 1 1 0 0 1 0 0 1 1 0 0 0 1 0\n",
            " 1 1 0 1 0 0 1 1 1 0 1 0 0 0 0 1 1 1 1 1 0 1 1 0 0 1 1 0 1 1 1 1 1 0 0 1 1\n",
            " 0 1 0 0 0 0 0 0 0 0 0 1 0 0 0 0 0 0 1 1 1 0 0 1 0 0 1 1 1 0 0 0 1 1 1 0 0\n",
            " 1 1 0 1 1 0 1 1 0 0 0 0 0 0 0 0 1]\n"
          ],
          "name": "stdout"
        }
      ]
    },
    {
      "cell_type": "markdown",
      "metadata": {
        "id": "8-SO9EI3WCFS",
        "colab_type": "text"
      },
      "source": [
        "# LightGBM"
      ]
    },
    {
      "cell_type": "code",
      "metadata": {
        "id": "-3UYPvAEU8iy",
        "colab_type": "code",
        "colab": {
          "base_uri": "https://localhost:8080/",
          "height": 119
        },
        "outputId": "f75a64e7-1b3f-47af-9701-19bccc73bb6c"
      },
      "source": [
        "# データセットを生成する\n",
        "lgb_train = lgb.Dataset(X_train, y_train)\n",
        "lgb_eval = lgb.Dataset(X_test, y_test, reference=lgb_train)\n",
        "\n",
        "# LightGBM のハイパーパラメータ\n",
        "lgbm_params = {\n",
        "    # 二値分類問題\n",
        "    'objective': 'binary',\n",
        "    # AUC の最大化を目指す\n",
        "    'metric': 'auc',\n",
        "    # Fatal の場合出力\n",
        "    'verbosity': -1,\n",
        "}\n",
        "\n",
        "# 上記のパラメータでモデルを学習する\n",
        "model = lgb.train(lgbm_params, lgb_train, valid_sets=lgb_eval,\n",
        "                  verbose_eval=50,  # 50イテレーション毎に学習結果出力\n",
        "                  num_boost_round=1000,  # 最大イテレーション回数指定\n",
        "                  early_stopping_rounds=100\n",
        "                 )\n",
        "\n",
        "# 保存\n",
        "model.save_model('model.txt')\n",
        "\n",
        "# テストデータを予測する\n",
        "y_pred_proba = model.predict(X_test, num_iteration=model.best_iteration)"
      ],
      "execution_count": 23,
      "outputs": [
        {
          "output_type": "stream",
          "text": [
            "Training until validation scores don't improve for 100 rounds.\n",
            "[50]\tvalid_0's auc: 0.959099\n",
            "[100]\tvalid_0's auc: 0.955882\n",
            "[150]\tvalid_0's auc: 0.955423\n",
            "Early stopping, best iteration is:\n",
            "[58]\tvalid_0's auc: 0.961305\n"
          ],
          "name": "stdout"
        }
      ]
    },
    {
      "cell_type": "code",
      "metadata": {
        "id": "XYRB95UtV9vU",
        "colab_type": "code",
        "colab": {}
      },
      "source": [
        "# y_pred = np.round(y_pred)"
      ],
      "execution_count": null,
      "outputs": []
    },
    {
      "cell_type": "code",
      "metadata": {
        "id": "E4cMskeVYqyu",
        "colab_type": "code",
        "colab": {}
      },
      "source": [
        "# しきい値 0.5 で最尤なクラスに分類する\n",
        "# y_pred = np.where(y_pred_proba > 0.5, 1, 0)"
      ],
      "execution_count": null,
      "outputs": []
    },
    {
      "cell_type": "code",
      "metadata": {
        "id": "Lb95u0mVWcFY",
        "colab_type": "code",
        "colab": {
          "base_uri": "https://localhost:8080/",
          "height": 748
        },
        "outputId": "6edbe1b7-5144-4e63-d0d5-7a152aa915c1"
      },
      "source": [
        "y_pred_proba"
      ],
      "execution_count": 24,
      "outputs": [
        {
          "output_type": "execute_result",
          "data": {
            "text/plain": [
              "array([0.51836532, 0.99615571, 0.99126617, 0.99881357, 0.90477114,\n",
              "       0.03509317, 0.36732213, 0.80025247, 0.1555769 , 0.00194388,\n",
              "       0.88578197, 0.0186409 , 0.00217748, 0.02380453, 0.00978743,\n",
              "       0.0117035 , 0.99028239, 0.00702161, 0.99432044, 0.80065922,\n",
              "       0.2814054 , 0.99741855, 0.81429598, 0.99766612, 0.20931621,\n",
              "       0.99822827, 0.00883142, 0.06185438, 0.02873935, 0.0038652 ,\n",
              "       0.30419426, 0.13029887, 0.00810858, 0.0070067 , 0.07384379,\n",
              "       0.01639933, 0.61885332, 0.97955192, 0.00961194, 0.00272413,\n",
              "       0.15062032, 0.99862371, 0.9976561 , 0.99749029, 0.00692722,\n",
              "       0.99750589, 0.89053894, 0.99419814, 0.98997276, 0.25252639,\n",
              "       0.0032044 , 0.94285181, 0.02834042, 0.99825664, 0.00284977,\n",
              "       0.01228083, 0.40207471, 0.61126943, 0.01660494, 0.99492471,\n",
              "       0.00653124, 0.00225063, 0.01000083, 0.09345487, 0.13162864,\n",
              "       0.99328836, 0.00271304, 0.11463037, 0.99157172, 0.91792657,\n",
              "       0.36902248, 0.01691905, 0.99460238, 0.87066293, 0.96605474,\n",
              "       0.01394801, 0.98492624, 0.06847175, 0.88416167, 0.00146555,\n",
              "       0.12492264, 0.07841311, 0.00420411, 0.15459848, 0.5614954 ,\n",
              "       0.00621546, 0.99787114, 0.9987723 , 0.82207239, 0.99857606,\n",
              "       0.99763099, 0.92275941, 0.71454911, 0.00178985, 0.97771232,\n",
              "       0.00414224, 0.00129216, 0.12990603, 0.02519754, 0.90738142,\n",
              "       0.00689699, 0.00486824, 0.02830177, 0.17297899, 0.48547927,\n",
              "       0.11388147, 0.75073767, 0.00843052, 0.2301914 , 0.71796709,\n",
              "       0.03190276, 0.70983926, 0.49918205, 0.2666093 , 0.99528973,\n",
              "       0.22209476, 0.00645405, 0.95187205, 0.07707691, 0.15078172,\n",
              "       0.06915866, 0.99451415, 0.00138489, 0.99699151, 0.21952749,\n",
              "       0.63623529, 0.97200349, 0.01270159, 0.00591709, 0.92608715,\n",
              "       0.16753855, 0.99271029, 0.96443016, 0.27486024, 0.01836661,\n",
              "       0.00739067, 0.39652229, 0.97847027, 0.04658896, 0.01019595,\n",
              "       0.00501921, 0.21568515, 0.08051604, 0.68221537, 0.62448642,\n",
              "       0.96725365, 0.21965131, 0.51581951, 0.0247029 , 0.01069608,\n",
              "       0.00880344, 0.22478326, 0.0033247 , 0.04798296, 0.13245913,\n",
              "       0.77021486, 0.91152431, 0.99750475, 0.16538278, 0.81025582,\n",
              "       0.05400786, 0.012555  , 0.03717856, 0.01649485, 0.65378522,\n",
              "       0.9759837 , 0.35522002, 0.29621389, 0.99024691, 0.7645209 ,\n",
              "       0.00328123, 0.50206632, 0.67418413, 0.00431443, 0.13549034,\n",
              "       0.06456516, 0.95881485, 0.96485323, 0.03933116, 0.05664411,\n",
              "       0.2541591 , 0.01830607, 0.99191397, 0.04049005, 0.98895703,\n",
              "       0.94579874, 0.00219331, 0.43925839, 0.12128918, 0.71642064,\n",
              "       0.00167866, 0.0385676 , 0.99680138, 0.00364043, 0.13151038,\n",
              "       0.02011869, 0.56020623, 0.00140899, 0.00328671, 0.06033077,\n",
              "       0.00259149, 0.71088525, 0.00172635, 0.99730171, 0.18125826,\n",
              "       0.00845958, 0.93153959, 0.81218151, 0.99822435, 0.9617612 ,\n",
              "       0.00150125, 0.19047859, 0.94118648])"
            ]
          },
          "metadata": {
            "tags": []
          },
          "execution_count": 24
        }
      ]
    },
    {
      "cell_type": "code",
      "metadata": {
        "id": "BFyoAKW6X6K6",
        "colab_type": "code",
        "colab": {}
      },
      "source": [
        "y_pred = y_pred_proba"
      ],
      "execution_count": 25,
      "outputs": []
    },
    {
      "cell_type": "code",
      "metadata": {
        "id": "GqTvHMeEYGze",
        "colab_type": "code",
        "colab": {
          "base_uri": "https://localhost:8080/",
          "height": 362
        },
        "outputId": "5aba68c1-a490-42f8-bfc5-389b5932b4b3"
      },
      "source": [
        "print('Accuracy score = \\t {}'.format(accuracy_score(y_test, y_pred)))\n",
        "print('Precision score = \\t {}'.format(precision_score(y_test, y_pred)))\n",
        "print('Recall score =   \\t {}'.format(recall_score(y_test, y_pred)))\n",
        "print('F1 score =      \\t {}'.format(f1_score(y_test, y_pred)))"
      ],
      "execution_count": 26,
      "outputs": [
        {
          "output_type": "error",
          "ename": "ValueError",
          "evalue": "ignored",
          "traceback": [
            "\u001b[0;31m---------------------------------------------------------------------------\u001b[0m",
            "\u001b[0;31mValueError\u001b[0m                                Traceback (most recent call last)",
            "\u001b[0;32m<ipython-input-26-6258bd7a1d37>\u001b[0m in \u001b[0;36m<module>\u001b[0;34m()\u001b[0m\n\u001b[0;32m----> 1\u001b[0;31m \u001b[0mprint\u001b[0m\u001b[0;34m(\u001b[0m\u001b[0;34m'Accuracy score = \\t {}'\u001b[0m\u001b[0;34m.\u001b[0m\u001b[0mformat\u001b[0m\u001b[0;34m(\u001b[0m\u001b[0maccuracy_score\u001b[0m\u001b[0;34m(\u001b[0m\u001b[0my_test\u001b[0m\u001b[0;34m,\u001b[0m \u001b[0my_pred\u001b[0m\u001b[0;34m)\u001b[0m\u001b[0;34m)\u001b[0m\u001b[0;34m)\u001b[0m\u001b[0;34m\u001b[0m\u001b[0;34m\u001b[0m\u001b[0m\n\u001b[0m\u001b[1;32m      2\u001b[0m \u001b[0mprint\u001b[0m\u001b[0;34m(\u001b[0m\u001b[0;34m'Precision score = \\t {}'\u001b[0m\u001b[0;34m.\u001b[0m\u001b[0mformat\u001b[0m\u001b[0;34m(\u001b[0m\u001b[0mprecision_score\u001b[0m\u001b[0;34m(\u001b[0m\u001b[0my_test\u001b[0m\u001b[0;34m,\u001b[0m \u001b[0my_pred\u001b[0m\u001b[0;34m)\u001b[0m\u001b[0;34m)\u001b[0m\u001b[0;34m)\u001b[0m\u001b[0;34m\u001b[0m\u001b[0;34m\u001b[0m\u001b[0m\n\u001b[1;32m      3\u001b[0m \u001b[0mprint\u001b[0m\u001b[0;34m(\u001b[0m\u001b[0;34m'Recall score =   \\t {}'\u001b[0m\u001b[0;34m.\u001b[0m\u001b[0mformat\u001b[0m\u001b[0;34m(\u001b[0m\u001b[0mrecall_score\u001b[0m\u001b[0;34m(\u001b[0m\u001b[0my_test\u001b[0m\u001b[0;34m,\u001b[0m \u001b[0my_pred\u001b[0m\u001b[0;34m)\u001b[0m\u001b[0;34m)\u001b[0m\u001b[0;34m)\u001b[0m\u001b[0;34m\u001b[0m\u001b[0;34m\u001b[0m\u001b[0m\n\u001b[1;32m      4\u001b[0m \u001b[0mprint\u001b[0m\u001b[0;34m(\u001b[0m\u001b[0;34m'F1 score =      \\t {}'\u001b[0m\u001b[0;34m.\u001b[0m\u001b[0mformat\u001b[0m\u001b[0;34m(\u001b[0m\u001b[0mf1_score\u001b[0m\u001b[0;34m(\u001b[0m\u001b[0my_test\u001b[0m\u001b[0;34m,\u001b[0m \u001b[0my_pred\u001b[0m\u001b[0;34m)\u001b[0m\u001b[0;34m)\u001b[0m\u001b[0;34m)\u001b[0m\u001b[0;34m\u001b[0m\u001b[0;34m\u001b[0m\u001b[0m\n",
            "\u001b[0;32m/usr/local/lib/python3.6/dist-packages/sklearn/metrics/_classification.py\u001b[0m in \u001b[0;36maccuracy_score\u001b[0;34m(y_true, y_pred, normalize, sample_weight)\u001b[0m\n\u001b[1;32m    183\u001b[0m \u001b[0;34m\u001b[0m\u001b[0m\n\u001b[1;32m    184\u001b[0m     \u001b[0;31m# Compute accuracy for each possible representation\u001b[0m\u001b[0;34m\u001b[0m\u001b[0;34m\u001b[0m\u001b[0;34m\u001b[0m\u001b[0m\n\u001b[0;32m--> 185\u001b[0;31m     \u001b[0my_type\u001b[0m\u001b[0;34m,\u001b[0m \u001b[0my_true\u001b[0m\u001b[0;34m,\u001b[0m \u001b[0my_pred\u001b[0m \u001b[0;34m=\u001b[0m \u001b[0m_check_targets\u001b[0m\u001b[0;34m(\u001b[0m\u001b[0my_true\u001b[0m\u001b[0;34m,\u001b[0m \u001b[0my_pred\u001b[0m\u001b[0;34m)\u001b[0m\u001b[0;34m\u001b[0m\u001b[0;34m\u001b[0m\u001b[0m\n\u001b[0m\u001b[1;32m    186\u001b[0m     \u001b[0mcheck_consistent_length\u001b[0m\u001b[0;34m(\u001b[0m\u001b[0my_true\u001b[0m\u001b[0;34m,\u001b[0m \u001b[0my_pred\u001b[0m\u001b[0;34m,\u001b[0m \u001b[0msample_weight\u001b[0m\u001b[0;34m)\u001b[0m\u001b[0;34m\u001b[0m\u001b[0;34m\u001b[0m\u001b[0m\n\u001b[1;32m    187\u001b[0m     \u001b[0;32mif\u001b[0m \u001b[0my_type\u001b[0m\u001b[0;34m.\u001b[0m\u001b[0mstartswith\u001b[0m\u001b[0;34m(\u001b[0m\u001b[0;34m'multilabel'\u001b[0m\u001b[0;34m)\u001b[0m\u001b[0;34m:\u001b[0m\u001b[0;34m\u001b[0m\u001b[0;34m\u001b[0m\u001b[0m\n",
            "\u001b[0;32m/usr/local/lib/python3.6/dist-packages/sklearn/metrics/_classification.py\u001b[0m in \u001b[0;36m_check_targets\u001b[0;34m(y_true, y_pred)\u001b[0m\n\u001b[1;32m     88\u001b[0m     \u001b[0;32mif\u001b[0m \u001b[0mlen\u001b[0m\u001b[0;34m(\u001b[0m\u001b[0my_type\u001b[0m\u001b[0;34m)\u001b[0m \u001b[0;34m>\u001b[0m \u001b[0;36m1\u001b[0m\u001b[0;34m:\u001b[0m\u001b[0;34m\u001b[0m\u001b[0;34m\u001b[0m\u001b[0m\n\u001b[1;32m     89\u001b[0m         raise ValueError(\"Classification metrics can't handle a mix of {0} \"\n\u001b[0;32m---> 90\u001b[0;31m                          \"and {1} targets\".format(type_true, type_pred))\n\u001b[0m\u001b[1;32m     91\u001b[0m \u001b[0;34m\u001b[0m\u001b[0m\n\u001b[1;32m     92\u001b[0m     \u001b[0;31m# We can't have more than one value on y_type => The set is no more needed\u001b[0m\u001b[0;34m\u001b[0m\u001b[0;34m\u001b[0m\u001b[0;34m\u001b[0m\u001b[0m\n",
            "\u001b[0;31mValueError\u001b[0m: Classification metrics can't handle a mix of binary and continuous targets"
          ]
        }
      ]
    },
    {
      "cell_type": "code",
      "metadata": {
        "id": "CX5csBMrU8ql",
        "colab_type": "code",
        "colab": {
          "base_uri": "https://localhost:8080/",
          "height": 34
        },
        "outputId": "5fee8482-712a-43ac-99bc-7d1932392304"
      },
      "source": [
        "# 保存したモデルを使う場合\n",
        "#bst = lgb.Booster(model_file='model.txt')\n",
        "#ypred = bst.predict(X_test, num_iteration=bst.best_iteration)\n",
        "\n",
        "# AUC (Area Under the Curve) を計算する\n",
        "fpr, tpr, thresholds = metrics.roc_curve(y_test, y_pred)\n",
        "auc = metrics.auc(fpr, tpr)\n",
        "print(auc)"
      ],
      "execution_count": 27,
      "outputs": [
        {
          "output_type": "stream",
          "text": [
            "0.9613051470588235\n"
          ],
          "name": "stdout"
        }
      ]
    },
    {
      "cell_type": "code",
      "metadata": {
        "id": "0_VDcY5-U8tj",
        "colab_type": "code",
        "colab": {
          "base_uri": "https://localhost:8080/",
          "height": 295
        },
        "outputId": "2c7b2b0f-7596-4d12-e64f-3543c72f959d"
      },
      "source": [
        "# ROC曲線をプロット\n",
        "plt.plot(fpr, tpr, label='ROC curve (area = %.2f)'%auc)\n",
        "plt.legend()\n",
        "plt.title('ROC curve')\n",
        "plt.xlabel('False Positive Rate')\n",
        "plt.ylabel('True Positive Rate')\n",
        "plt.grid(True)"
      ],
      "execution_count": 28,
      "outputs": [
        {
          "output_type": "display_data",
          "data": {
            "image/png": "[encoded data removed]",
            "text/plain": [
              "<Figure size 432x288 with 1 Axes>"
            ]
          },
          "metadata": {
            "tags": [],
            "needs_background": "light"
          }
        }
      ]
    },
    {
      "cell_type": "markdown",
      "metadata": {
        "id": "yca_QaWSQNWB",
        "colab_type": "text"
      },
      "source": [
        "# 提出用データ作成"
      ]
    },
    {
      "cell_type": "code",
      "metadata": {
        "id": "6jjuPF7lUSt1",
        "colab_type": "code",
        "colab": {
          "base_uri": "https://localhost:8080/",
          "height": 1000
        },
        "outputId": "93e5aec2-79e4-454f-f34b-cc4b029b35e5"
      },
      "source": [
        "# RFC.fit(train_X, train_y)\n",
        "# 評価用データの予測\n",
        "y_pred_proba = model.predict(test_X)\n",
        "# pred_y = np.where(y_pred_proba > 0.5, 1, 0)\n",
        "pred_y = y_pred_proba\n",
        "# 予測結果の表示\n",
        "print(pred_y)"
      ],
      "execution_count": 29,
      "outputs": [
        {
          "output_type": "stream",
          "text": [
            "[0.00316026 0.58604926 0.00323041 0.11277529 0.01793184 0.01516046\n",
            " 0.99732585 0.5838252  0.90898855 0.42044595 0.02753866 0.03762698\n",
            " 0.25014451 0.99766391 0.0014547  0.4015893  0.97394024 0.01707348\n",
            " 0.01949604 0.003657   0.37046068 0.00231361 0.18281498 0.42348619\n",
            " 0.10318781 0.00986803 0.0648181  0.9945428  0.83755076 0.99744633\n",
            " 0.16923352 0.99659327 0.09032611 0.22761152 0.86050877 0.99884625\n",
            " 0.00581583 0.34891698 0.00939694 0.99417902 0.81196382 0.58639844\n",
            " 0.98653708 0.68681561 0.17690522 0.23786319 0.00143603 0.88366328\n",
            " 0.47651214 0.87090637 0.30301874 0.28399692 0.99215923 0.28376497\n",
            " 0.23573859 0.00132124 0.79220364 0.01862218 0.99850551 0.21439211\n",
            " 0.56864604 0.00687264 0.99814975 0.13797754 0.04377613 0.03400961\n",
            " 0.98982046 0.93138347 0.18357478 0.00778728 0.97185432 0.26532782\n",
            " 0.1135426  0.16387063 0.01135222 0.97860126 0.87747381 0.99849906\n",
            " 0.01011526 0.43781658 0.97687844 0.98193043 0.00807266 0.82752309\n",
            " 0.00725548 0.92512084 0.00668014 0.00279975 0.00358613 0.36663814\n",
            " 0.0043023  0.95722568 0.00916095 0.29359501 0.00236111 0.8999618\n",
            " 0.12211326 0.33054389 0.01056767 0.42378171 0.19838045 0.01279701\n",
            " 0.90526145 0.83004647 0.12959498 0.99596938 0.36401061 0.00153762\n",
            " 0.97907733 0.00404581 0.00194739 0.29004187 0.05717961 0.0028707\n",
            " 0.19133371 0.00129846 0.21514734 0.97567853 0.99887347 0.78933364\n",
            " 0.99742605 0.00176589 0.00348313 0.00263549 0.06101571 0.52654254\n",
            " 0.01405844 0.9943466  0.657007   0.00473083 0.73069804 0.86348883\n",
            " 0.00713297 0.01027422 0.62526873 0.2804811  0.03662307 0.02013907\n",
            " 0.08372035 0.00307007 0.00554095 0.01390114 0.0022754  0.0995394\n",
            " 0.00493627 0.99248815 0.32620055 0.9301412  0.98863881 0.99291369\n",
            " 0.99663769 0.58169743 0.11428578 0.30658781 0.01134653 0.55846219\n",
            " 0.09154583 0.99143228 0.0122023  0.03670066 0.72649997 0.99875849\n",
            " 0.07162312 0.99840984 0.02080964 0.05802457 0.87743192 0.98170641\n",
            " 0.83054276 0.97588202 0.94849515 0.99613024 0.0528034  0.19644571\n",
            " 0.59747813 0.95263792 0.00578511 0.96035169 0.70585527 0.99692584\n",
            " 0.22484461 0.0882837  0.00948124 0.00232039 0.01335498 0.00194985\n",
            " 0.00969225 0.92501725 0.00415555 0.01985461 0.84102083 0.22012272\n",
            " 0.00550743 0.92167922 0.56383918 0.00265282 0.538848   0.02171279\n",
            " 0.8997588  0.16904357 0.00270289 0.93813303 0.37396671 0.99298367\n",
            " 0.0043993  0.09056679 0.02474074 0.00212395 0.29950366 0.08132166\n",
            " 0.02838434 0.01141198 0.09633913 0.99707042 0.99385803 0.02050701\n",
            " 0.03289032 0.99799836 0.00955352 0.39382019 0.07442241 0.99819917\n",
            " 0.03515367 0.77484535 0.05177502 0.59300541 0.93786126 0.35004197\n",
            " 0.97490098 0.95253008 0.94282025 0.00527265 0.9987126  0.99711047\n",
            " 0.23667857 0.30616322 0.98408098 0.00306472 0.59778848 0.99304033\n",
            " 0.0169546  0.01245699 0.79651967 0.99762849 0.02550641 0.9963469\n",
            " 0.9987855  0.01460756 0.04288142 0.87542895 0.00300357 0.03670066\n",
            " 0.83258743 0.92781614 0.01388653 0.04455108 0.07189324 0.99656843\n",
            " 0.14053367 0.99714223 0.9930265  0.03128906 0.93463926 0.07654572\n",
            " 0.08422306 0.88485612 0.46196976 0.99279437 0.12833381 0.99727385\n",
            " 0.31108825 0.09473784 0.00181496 0.69689491 0.93082105 0.9661069\n",
            " 0.99727657 0.84564632 0.9975257  0.0128301  0.9943439  0.92184954\n",
            " 0.05210455 0.05225267 0.99324021 0.68752213 0.00603375 0.99884843\n",
            " 0.81722512 0.91314654 0.9952657  0.93086812 0.26788147 0.01215322\n",
            " 0.99572717 0.99851945 0.00374608 0.80238747 0.00666367 0.00251209\n",
            " 0.06428497 0.32061178 0.01911617 0.5705625  0.03207108 0.11464182\n",
            " 0.11728701 0.99618269 0.2736781  0.13185726 0.01189248 0.01118476\n",
            " 0.42260251 0.05999602 0.87608919 0.99472563 0.85443061 0.06522448\n",
            " 0.03694217 0.7192728  0.02818195 0.34095083 0.99577638 0.78166487\n",
            " 0.95653104 0.0421331  0.58798977 0.06038712 0.8673673  0.63111231\n",
            " 0.53748546 0.34255229 0.00374533 0.99692546 0.99503236 0.06240404\n",
            " 0.99724041 0.99536598 0.01782296 0.69806395 0.99136681 0.22204447\n",
            " 0.01960449 0.7024436  0.0647603  0.53366194 0.00282076 0.00230415\n",
            " 0.0801612  0.50919662]\n"
          ],
          "name": "stdout"
        }
      ]
    },
    {
      "cell_type": "code",
      "metadata": {
        "id": "KHn7DfEtUSt3",
        "colab_type": "code",
        "colab": {}
      },
      "source": [
        "submit = pd.read_csv(\"sample_submit.csv\", header=None)"
      ],
      "execution_count": 30,
      "outputs": []
    },
    {
      "cell_type": "code",
      "metadata": {
        "id": "GGTNpSj1USt5",
        "colab_type": "code",
        "colab": {}
      },
      "source": [
        "submit[1] = pred_y"
      ],
      "execution_count": 31,
      "outputs": []
    },
    {
      "cell_type": "code",
      "metadata": {
        "id": "EtJnujt3USt7",
        "colab_type": "code",
        "colab": {}
      },
      "source": [
        "submit.to_csv(\"submit.csv\", index=False, header=False)"
      ],
      "execution_count": 32,
      "outputs": []
    },
    {
      "cell_type": "markdown",
      "metadata": {
        "id": "xXJhY2Q5QP9a",
        "colab_type": "text"
      },
      "source": [
        "# フォーラム投稿用検証"
      ]
    },
    {
      "cell_type": "code",
      "metadata": {
        "id": "i9Cp6mkoDkie",
        "colab_type": "code",
        "colab": {
          "base_uri": "https://localhost:8080/",
          "height": 153
        },
        "outputId": "518d02c3-9ef4-43b7-82c3-f9c1e61bf00a"
      },
      "source": [
        "import re\n",
        "import pandas as pd\n",
        "import numpy as np\n",
        "from xgboost.sklearn import XGBRegressor\n",
        "regex = re.compile(r\"\\[|\\]|<\", re.IGNORECASE)\n",
        "\n",
        "# test input data with string, int, and symbol-included columns \n",
        "df = pd.DataFrame({'0': np.random.randint(0, 2, size=100),\n",
        "                   '[test1]': np.random.uniform(0, 1, size=100),\n",
        "                   'test2': np.random.uniform(0, 1, size=100),\n",
        "                  3: np.random.uniform(0, 1, size=100)})\n",
        "\n",
        "df.columns = [regex.sub(\"_\", col) if any(x in str(col) for x in set(('[', ']', '<'))) else col for col in df.columns.values]\n",
        "\n",
        "target = df.iloc[:, 0]\n",
        "predictors = df.iloc[:, 1:]\n",
        "\n",
        "# basic xgb model\n",
        "xgb0 = XGBRegressor(objective= 'reg:linear')\n",
        "xgb0.fit(predictors, target)"
      ],
      "execution_count": 34,
      "outputs": [
        {
          "output_type": "stream",
          "text": [
            "[15:21:21] WARNING: /workspace/src/objective/regression_obj.cu:152: reg:linear is now deprecated in favor of reg:squarederror.\n"
          ],
          "name": "stdout"
        },
        {
          "output_type": "execute_result",
          "data": {
            "text/plain": [
              "XGBRegressor(base_score=0.5, booster='gbtree', colsample_bylevel=1,\n",
              "             colsample_bynode=1, colsample_bytree=1, gamma=0,\n",
              "             importance_type='gain', learning_rate=0.1, max_delta_step=0,\n",
              "             max_depth=3, min_child_weight=1, missing=None, n_estimators=100,\n",
              "             n_jobs=1, nthread=None, objective='reg:linear', random_state=0,\n",
              "             reg_alpha=0, reg_lambda=1, scale_pos_weight=1, seed=None,\n",
              "             silent=None, subsample=1, verbosity=1)"
            ]
          },
          "metadata": {
            "tags": []
          },
          "execution_count": 34
        }
      ]
    },
    {
      "cell_type": "code",
      "metadata": {
        "id": "5NMgIw-IDm68",
        "colab_type": "code",
        "colab": {
          "base_uri": "https://localhost:8080/",
          "height": 153
        },
        "outputId": "547bf8e8-21fa-4bf7-ed7e-d7df89121ab9"
      },
      "source": [
        "import pandas as pd\n",
        "import numpy as np\n",
        "from xgboost.sklearn import XGBRegressor\n",
        "\n",
        "# test input data with string, int, and symbol-included columns \n",
        "df = pd.DataFrame({'0': np.random.randint(0, 2, size=100),\n",
        "                   'test1': np.random.uniform(0, 1, size=100),\n",
        "                   'test2': np.random.uniform(0, 1, size=100),\n",
        "                  3: np.random.uniform(0, 1, size=100)})\n",
        "\n",
        "target = df.iloc[:, 0]\n",
        "predictors = df.iloc[:, 1:]\n",
        "\n",
        "# basic xgb model\n",
        "xgb0 = XGBRegressor(objective= 'reg:linear')\n",
        "xgb0.fit(predictors, target)"
      ],
      "execution_count": 35,
      "outputs": [
        {
          "output_type": "stream",
          "text": [
            "[15:21:36] WARNING: /workspace/src/objective/regression_obj.cu:152: reg:linear is now deprecated in favor of reg:squarederror.\n"
          ],
          "name": "stdout"
        },
        {
          "output_type": "execute_result",
          "data": {
            "text/plain": [
              "XGBRegressor(base_score=0.5, booster='gbtree', colsample_bylevel=1,\n",
              "             colsample_bynode=1, colsample_bytree=1, gamma=0,\n",
              "             importance_type='gain', learning_rate=0.1, max_delta_step=0,\n",
              "             max_depth=3, min_child_weight=1, missing=None, n_estimators=100,\n",
              "             n_jobs=1, nthread=None, objective='reg:linear', random_state=0,\n",
              "             reg_alpha=0, reg_lambda=1, scale_pos_weight=1, seed=None,\n",
              "             silent=None, subsample=1, verbosity=1)"
            ]
          },
          "metadata": {
            "tags": []
          },
          "execution_count": 35
        }
      ]
    },
    {
      "cell_type": "code",
      "metadata": {
        "id": "9h4hOEwtDqgK",
        "colab_type": "code",
        "colab": {}
      },
      "source": [
        ""
      ],
      "execution_count": null,
      "outputs": []
    }
  ]
}